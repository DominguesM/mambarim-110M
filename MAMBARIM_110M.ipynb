{
  "cells": [
    {
      "cell_type": "markdown",
      "metadata": {
        "id": "sL2n_Y1MgXsD"
      },
      "source": [
        "## Environment Setup\n",
        "\n",
        "This section prepares the environment for training our Mamba model. We'll install all the required libraries and dependencies. This ensures that all the necessary components are in place before we proceed with loading the data and building the model."
      ]
    },
    {
      "cell_type": "markdown",
      "metadata": {
        "id": "rLiU61REgfIp"
      },
      "source": [
        "First, we'll clone the `causal-conv1d` repository from GitHub. This repository provides a highly optimized CUDA implementation of 1D depthwise causal convolutions, which is a key component of the Mamba architecture. By using this optimized implementation, we can significantly speed up the training process. After cloning, we'll switch to a specific version (`v1.5.2`) of the repository to ensure reproducibility."
      ]
    },
    {
      "cell_type": "code",
      "execution_count": null,
      "metadata": {
        "id": "bKOVR-pP-1Hc"
      },
      "outputs": [],
      "source": [
        "!git clone https://github.com/Dao-AILab/causal-conv1d.git\n",
        "%cd causal-conv1d\n",
        "!git checkout v1.5.2"
      ]
    },
    {
      "cell_type": "markdown",
      "metadata": {
        "id": "8Qn3_ONTghio"
      },
      "source": [
        "Now, we will install the `causal-conv1d` library from the source code we just cloned. The environment variable `CAUSAL_CONV1D_FORCE_BUILD=TRUE` is set to ensure that the library is compiled from scratch, even if a pre-existing version is found. This helps in avoiding any potential conflicts and ensures that we are using the correct version of the library."
      ]
    },
    {
      "cell_type": "code",
      "execution_count": 4,
      "metadata": {
        "colab": {
          "base_uri": "https://localhost:8080/"
        },
        "id": "J76CTXXE_grr",
        "outputId": "60d3abd8-e746-4f27-999e-5e37ed6a1794"
      },
      "outputs": [
        {
          "name": "stdout",
          "output_type": "stream",
          "text": [
            "Processing /content/causal-conv1d\n",
            "  Installing build dependencies ... \u001b[?25l\u001b[?25hdone\n",
            "  Getting requirements to build wheel ... \u001b[?25l\u001b[?25hdone\n",
            "  Preparing metadata (pyproject.toml) ... \u001b[?25l\u001b[?25hdone\n",
            "Requirement already satisfied: torch in /usr/local/lib/python3.12/dist-packages (from causal_conv1d==1.5.2) (2.8.0+cu126)\n",
            "Requirement already satisfied: packaging in /usr/local/lib/python3.12/dist-packages (from causal_conv1d==1.5.2) (25.0)\n",
            "Collecting ninja (from causal_conv1d==1.5.2)\n",
            "  Using cached ninja-1.13.0-py3-none-manylinux2014_x86_64.manylinux_2_17_x86_64.whl.metadata (5.1 kB)\n",
            "Requirement already satisfied: filelock in /usr/local/lib/python3.12/dist-packages (from torch->causal_conv1d==1.5.2) (3.19.1)\n",
            "Requirement already satisfied: typing-extensions>=4.10.0 in /usr/local/lib/python3.12/dist-packages (from torch->causal_conv1d==1.5.2) (4.14.1)\n",
            "Requirement already satisfied: setuptools in /usr/local/lib/python3.12/dist-packages (from torch->causal_conv1d==1.5.2) (75.2.0)\n",
            "Requirement already satisfied: sympy>=1.13.3 in /usr/local/lib/python3.12/dist-packages (from torch->causal_conv1d==1.5.2) (1.13.3)\n",
            "Requirement already satisfied: networkx in /usr/local/lib/python3.12/dist-packages (from torch->causal_conv1d==1.5.2) (3.5)\n",
            "Requirement already satisfied: jinja2 in /usr/local/lib/python3.12/dist-packages (from torch->causal_conv1d==1.5.2) (3.1.6)\n",
            "Requirement already satisfied: fsspec in /usr/local/lib/python3.12/dist-packages (from torch->causal_conv1d==1.5.2) (2025.3.0)\n",
            "Requirement already satisfied: nvidia-cuda-nvrtc-cu12==12.6.77 in /usr/local/lib/python3.12/dist-packages (from torch->causal_conv1d==1.5.2) (12.6.77)\n",
            "Requirement already satisfied: nvidia-cuda-runtime-cu12==12.6.77 in /usr/local/lib/python3.12/dist-packages (from torch->causal_conv1d==1.5.2) (12.6.77)\n",
            "Requirement already satisfied: nvidia-cuda-cupti-cu12==12.6.80 in /usr/local/lib/python3.12/dist-packages (from torch->causal_conv1d==1.5.2) (12.6.80)\n",
            "Requirement already satisfied: nvidia-cudnn-cu12==9.10.2.21 in /usr/local/lib/python3.12/dist-packages (from torch->causal_conv1d==1.5.2) (9.10.2.21)\n",
            "Requirement already satisfied: nvidia-cublas-cu12==12.6.4.1 in /usr/local/lib/python3.12/dist-packages (from torch->causal_conv1d==1.5.2) (12.6.4.1)\n",
            "Requirement already satisfied: nvidia-cufft-cu12==11.3.0.4 in /usr/local/lib/python3.12/dist-packages (from torch->causal_conv1d==1.5.2) (11.3.0.4)\n",
            "Requirement already satisfied: nvidia-curand-cu12==10.3.7.77 in /usr/local/lib/python3.12/dist-packages (from torch->causal_conv1d==1.5.2) (10.3.7.77)\n",
            "Requirement already satisfied: nvidia-cusolver-cu12==11.7.1.2 in /usr/local/lib/python3.12/dist-packages (from torch->causal_conv1d==1.5.2) (11.7.1.2)\n",
            "Requirement already satisfied: nvidia-cusparse-cu12==12.5.4.2 in /usr/local/lib/python3.12/dist-packages (from torch->causal_conv1d==1.5.2) (12.5.4.2)\n",
            "Requirement already satisfied: nvidia-cusparselt-cu12==0.7.1 in /usr/local/lib/python3.12/dist-packages (from torch->causal_conv1d==1.5.2) (0.7.1)\n",
            "Requirement already satisfied: nvidia-nccl-cu12==2.27.3 in /usr/local/lib/python3.12/dist-packages (from torch->causal_conv1d==1.5.2) (2.27.3)\n",
            "Requirement already satisfied: nvidia-nvtx-cu12==12.6.77 in /usr/local/lib/python3.12/dist-packages (from torch->causal_conv1d==1.5.2) (12.6.77)\n",
            "Requirement already satisfied: nvidia-nvjitlink-cu12==12.6.85 in /usr/local/lib/python3.12/dist-packages (from torch->causal_conv1d==1.5.2) (12.6.85)\n",
            "Requirement already satisfied: nvidia-cufile-cu12==1.11.1.6 in /usr/local/lib/python3.12/dist-packages (from torch->causal_conv1d==1.5.2) (1.11.1.6)\n",
            "Requirement already satisfied: triton==3.4.0 in /usr/local/lib/python3.12/dist-packages (from torch->causal_conv1d==1.5.2) (3.4.0)\n",
            "Requirement already satisfied: mpmath<1.4,>=1.1.0 in /usr/local/lib/python3.12/dist-packages (from sympy>=1.13.3->torch->causal_conv1d==1.5.2) (1.3.0)\n",
            "Requirement already satisfied: MarkupSafe>=2.0 in /usr/local/lib/python3.12/dist-packages (from jinja2->torch->causal_conv1d==1.5.2) (3.0.2)\n",
            "Using cached ninja-1.13.0-py3-none-manylinux2014_x86_64.manylinux_2_17_x86_64.whl (180 kB)\n",
            "Building wheels for collected packages: causal_conv1d\n",
            "  Building wheel for causal_conv1d (pyproject.toml) ... \u001b[?25l\u001b[?25hdone\n",
            "  Created wheel for causal_conv1d: filename=causal_conv1d-1.5.2-cp312-cp312-linux_x86_64.whl size=102969996 sha256=5c7d4f44ffa50cf9932b8a76d79f21b95a740f2a21c4e64467db54a476c4a6b5\n",
            "  Stored in directory: /root/.cache/pip/wheels/ff/46/f6/494a696282daefdb5ace79c1dd44012d2d496de2279db3022b\n",
            "Successfully built causal_conv1d\n",
            "Installing collected packages: ninja, causal_conv1d\n",
            "Successfully installed causal_conv1d-1.5.2 ninja-1.13.0\n"
          ]
        }
      ],
      "source": [
        "!CAUSAL_CONV1D_FORCE_BUILD=TRUE pip install ."
      ]
    },
    {
      "cell_type": "markdown",
      "metadata": {
        "id": "CYFkIVtZgluG"
      },
      "source": [
        "Next, we install the `mamba-ssm` library, which contains the core implementation of the Mamba model. We use the `-q` flag for a quiet installation (less verbose output) and the `-U` flag to upgrade the package to the latest version if it's already installed."
      ]
    },
    {
      "cell_type": "code",
      "execution_count": 5,
      "metadata": {
        "colab": {
          "base_uri": "https://localhost:8080/"
        },
        "id": "M0jCEBdm-2zN",
        "outputId": "f299e344-ce0c-4c5f-f850-14202f5ec8ee"
      },
      "outputs": [
        {
          "name": "stdout",
          "output_type": "stream",
          "text": [
            "  Installing build dependencies ... \u001b[?25l\u001b[?25hdone\n",
            "  Getting requirements to build wheel ... \u001b[?25l\u001b[?25hdone\n",
            "  Preparing metadata (pyproject.toml) ... \u001b[?25l\u001b[?25hdone\n",
            "  Building wheel for mamba-ssm (pyproject.toml) ... \u001b[?25l\u001b[?25hdone\n"
          ]
        }
      ],
      "source": [
        "!pip install mamba-ssm -q -U"
      ]
    },
    {
      "cell_type": "markdown",
      "metadata": {
        "id": "Uk7hO_X0gnUo"
      },
      "source": [
        "We will now install three essential libraries: `datasets`, `accelerate`, and `wandb`.\n",
        "- The `datasets` library from Hugging Face provides an easy way to load and process a wide variety of datasets.\n",
        "- `accelerate` simplifies running PyTorch code across different hardware setups, such as CPUs, multiple GPUs, and TPUs, with minimal modifications to your code.\n",
        "- `wandb` (Weights & Biases) is a powerful tool for experiment tracking. It allows us to log and visualize training metrics, which is crucial for monitoring the performance of our model and comparing different experiments."
      ]
    },
    {
      "cell_type": "code",
      "execution_count": 6,
      "metadata": {
        "colab": {
          "base_uri": "https://localhost:8080/"
        },
        "id": "T9gfthl3KdXo",
        "outputId": "983e12ac-fc64-451a-bba0-17ebe546d7ab"
      },
      "outputs": [
        {
          "name": "stdout",
          "output_type": "stream",
          "text": [
            "Requirement already satisfied: datasets in /usr/local/lib/python3.12/dist-packages (4.0.0)\n",
            "Requirement already satisfied: accelerate in /usr/local/lib/python3.12/dist-packages (1.10.0)\n",
            "Requirement already satisfied: wandb in /usr/local/lib/python3.12/dist-packages (0.21.1)\n",
            "Requirement already satisfied: filelock in /usr/local/lib/python3.12/dist-packages (from datasets) (3.19.1)\n",
            "Requirement already satisfied: numpy>=1.17 in /usr/local/lib/python3.12/dist-packages (from datasets) (2.0.2)\n",
            "Requirement already satisfied: pyarrow>=15.0.0 in /usr/local/lib/python3.12/dist-packages (from datasets) (18.1.0)\n",
            "Requirement already satisfied: dill<0.3.9,>=0.3.0 in /usr/local/lib/python3.12/dist-packages (from datasets) (0.3.8)\n",
            "Requirement already satisfied: pandas in /usr/local/lib/python3.12/dist-packages (from datasets) (2.2.2)\n",
            "Requirement already satisfied: requests>=2.32.2 in /usr/local/lib/python3.12/dist-packages (from datasets) (2.32.3)\n",
            "Requirement already satisfied: tqdm>=4.66.3 in /usr/local/lib/python3.12/dist-packages (from datasets) (4.67.1)\n",
            "Requirement already satisfied: xxhash in /usr/local/lib/python3.12/dist-packages (from datasets) (3.5.0)\n",
            "Requirement already satisfied: multiprocess<0.70.17 in /usr/local/lib/python3.12/dist-packages (from datasets) (0.70.16)\n",
            "Requirement already satisfied: fsspec<=2025.3.0,>=2023.1.0 in /usr/local/lib/python3.12/dist-packages (from fsspec[http]<=2025.3.0,>=2023.1.0->datasets) (2025.3.0)\n",
            "Requirement already satisfied: huggingface-hub>=0.24.0 in /usr/local/lib/python3.12/dist-packages (from datasets) (0.34.4)\n",
            "Requirement already satisfied: packaging in /usr/local/lib/python3.12/dist-packages (from datasets) (25.0)\n",
            "Requirement already satisfied: pyyaml>=5.1 in /usr/local/lib/python3.12/dist-packages (from datasets) (6.0.2)\n",
            "Requirement already satisfied: psutil in /usr/local/lib/python3.12/dist-packages (from accelerate) (5.9.5)\n",
            "Requirement already satisfied: torch>=2.0.0 in /usr/local/lib/python3.12/dist-packages (from accelerate) (2.8.0+cu126)\n",
            "Requirement already satisfied: safetensors>=0.4.3 in /usr/local/lib/python3.12/dist-packages (from accelerate) (0.6.2)\n",
            "Requirement already satisfied: click!=8.0.0,>=7.1 in /usr/local/lib/python3.12/dist-packages (from wandb) (8.2.1)\n",
            "Requirement already satisfied: gitpython!=3.1.29,>=1.0.0 in /usr/local/lib/python3.12/dist-packages (from wandb) (3.1.45)\n",
            "Requirement already satisfied: platformdirs in /usr/local/lib/python3.12/dist-packages (from wandb) (4.3.8)\n",
            "Requirement already satisfied: protobuf!=4.21.0,!=5.28.0,<7,>=3.19.0 in /usr/local/lib/python3.12/dist-packages (from wandb) (5.29.5)\n",
            "Requirement already satisfied: pydantic<3 in /usr/local/lib/python3.12/dist-packages (from wandb) (2.11.7)\n",
            "Requirement already satisfied: sentry-sdk>=2.0.0 in /usr/local/lib/python3.12/dist-packages (from wandb) (2.35.0)\n",
            "Requirement already satisfied: typing-extensions<5,>=4.8 in /usr/local/lib/python3.12/dist-packages (from wandb) (4.14.1)\n",
            "Requirement already satisfied: aiohttp!=4.0.0a0,!=4.0.0a1 in /usr/local/lib/python3.12/dist-packages (from fsspec[http]<=2025.3.0,>=2023.1.0->datasets) (3.12.15)\n",
            "Requirement already satisfied: gitdb<5,>=4.0.1 in /usr/local/lib/python3.12/dist-packages (from gitpython!=3.1.29,>=1.0.0->wandb) (4.0.12)\n",
            "Requirement already satisfied: hf-xet<2.0.0,>=1.1.3 in /usr/local/lib/python3.12/dist-packages (from huggingface-hub>=0.24.0->datasets) (1.1.7)\n",
            "Requirement already satisfied: annotated-types>=0.6.0 in /usr/local/lib/python3.12/dist-packages (from pydantic<3->wandb) (0.7.0)\n",
            "Requirement already satisfied: pydantic-core==2.33.2 in /usr/local/lib/python3.12/dist-packages (from pydantic<3->wandb) (2.33.2)\n",
            "Requirement already satisfied: typing-inspection>=0.4.0 in /usr/local/lib/python3.12/dist-packages (from pydantic<3->wandb) (0.4.1)\n",
            "Requirement already satisfied: charset-normalizer<4,>=2 in /usr/local/lib/python3.12/dist-packages (from requests>=2.32.2->datasets) (3.4.3)\n",
            "Requirement already satisfied: idna<4,>=2.5 in /usr/local/lib/python3.12/dist-packages (from requests>=2.32.2->datasets) (3.10)\n",
            "Requirement already satisfied: urllib3<3,>=1.21.1 in /usr/local/lib/python3.12/dist-packages (from requests>=2.32.2->datasets) (2.5.0)\n",
            "Requirement already satisfied: certifi>=2017.4.17 in /usr/local/lib/python3.12/dist-packages (from requests>=2.32.2->datasets) (2025.8.3)\n",
            "Requirement already satisfied: setuptools in /usr/local/lib/python3.12/dist-packages (from torch>=2.0.0->accelerate) (75.2.0)\n",
            "Requirement already satisfied: sympy>=1.13.3 in /usr/local/lib/python3.12/dist-packages (from torch>=2.0.0->accelerate) (1.13.3)\n",
            "Requirement already satisfied: networkx in /usr/local/lib/python3.12/dist-packages (from torch>=2.0.0->accelerate) (3.5)\n",
            "Requirement already satisfied: jinja2 in /usr/local/lib/python3.12/dist-packages (from torch>=2.0.0->accelerate) (3.1.6)\n",
            "Requirement already satisfied: nvidia-cuda-nvrtc-cu12==12.6.77 in /usr/local/lib/python3.12/dist-packages (from torch>=2.0.0->accelerate) (12.6.77)\n",
            "Requirement already satisfied: nvidia-cuda-runtime-cu12==12.6.77 in /usr/local/lib/python3.12/dist-packages (from torch>=2.0.0->accelerate) (12.6.77)\n",
            "Requirement already satisfied: nvidia-cuda-cupti-cu12==12.6.80 in /usr/local/lib/python3.12/dist-packages (from torch>=2.0.0->accelerate) (12.6.80)\n",
            "Requirement already satisfied: nvidia-cudnn-cu12==9.10.2.21 in /usr/local/lib/python3.12/dist-packages (from torch>=2.0.0->accelerate) (9.10.2.21)\n",
            "Requirement already satisfied: nvidia-cublas-cu12==12.6.4.1 in /usr/local/lib/python3.12/dist-packages (from torch>=2.0.0->accelerate) (12.6.4.1)\n",
            "Requirement already satisfied: nvidia-cufft-cu12==11.3.0.4 in /usr/local/lib/python3.12/dist-packages (from torch>=2.0.0->accelerate) (11.3.0.4)\n",
            "Requirement already satisfied: nvidia-curand-cu12==10.3.7.77 in /usr/local/lib/python3.12/dist-packages (from torch>=2.0.0->accelerate) (10.3.7.77)\n",
            "Requirement already satisfied: nvidia-cusolver-cu12==11.7.1.2 in /usr/local/lib/python3.12/dist-packages (from torch>=2.0.0->accelerate) (11.7.1.2)\n",
            "Requirement already satisfied: nvidia-cusparse-cu12==12.5.4.2 in /usr/local/lib/python3.12/dist-packages (from torch>=2.0.0->accelerate) (12.5.4.2)\n",
            "Requirement already satisfied: nvidia-cusparselt-cu12==0.7.1 in /usr/local/lib/python3.12/dist-packages (from torch>=2.0.0->accelerate) (0.7.1)\n",
            "Requirement already satisfied: nvidia-nccl-cu12==2.27.3 in /usr/local/lib/python3.12/dist-packages (from torch>=2.0.0->accelerate) (2.27.3)\n",
            "Requirement already satisfied: nvidia-nvtx-cu12==12.6.77 in /usr/local/lib/python3.12/dist-packages (from torch>=2.0.0->accelerate) (12.6.77)\n",
            "Requirement already satisfied: nvidia-nvjitlink-cu12==12.6.85 in /usr/local/lib/python3.12/dist-packages (from torch>=2.0.0->accelerate) (12.6.85)\n",
            "Requirement already satisfied: nvidia-cufile-cu12==1.11.1.6 in /usr/local/lib/python3.12/dist-packages (from torch>=2.0.0->accelerate) (1.11.1.6)\n",
            "Requirement already satisfied: triton==3.4.0 in /usr/local/lib/python3.12/dist-packages (from torch>=2.0.0->accelerate) (3.4.0)\n",
            "Requirement already satisfied: python-dateutil>=2.8.2 in /usr/local/lib/python3.12/dist-packages (from pandas->datasets) (2.9.0.post0)\n",
            "Requirement already satisfied: pytz>=2020.1 in /usr/local/lib/python3.12/dist-packages (from pandas->datasets) (2025.2)\n",
            "Requirement already satisfied: tzdata>=2022.7 in /usr/local/lib/python3.12/dist-packages (from pandas->datasets) (2025.2)\n",
            "Requirement already satisfied: aiohappyeyeballs>=2.5.0 in /usr/local/lib/python3.12/dist-packages (from aiohttp!=4.0.0a0,!=4.0.0a1->fsspec[http]<=2025.3.0,>=2023.1.0->datasets) (2.6.1)\n",
            "Requirement already satisfied: aiosignal>=1.4.0 in /usr/local/lib/python3.12/dist-packages (from aiohttp!=4.0.0a0,!=4.0.0a1->fsspec[http]<=2025.3.0,>=2023.1.0->datasets) (1.4.0)\n",
            "Requirement already satisfied: attrs>=17.3.0 in /usr/local/lib/python3.12/dist-packages (from aiohttp!=4.0.0a0,!=4.0.0a1->fsspec[http]<=2025.3.0,>=2023.1.0->datasets) (25.3.0)\n",
            "Requirement already satisfied: frozenlist>=1.1.1 in /usr/local/lib/python3.12/dist-packages (from aiohttp!=4.0.0a0,!=4.0.0a1->fsspec[http]<=2025.3.0,>=2023.1.0->datasets) (1.7.0)\n",
            "Requirement already satisfied: multidict<7.0,>=4.5 in /usr/local/lib/python3.12/dist-packages (from aiohttp!=4.0.0a0,!=4.0.0a1->fsspec[http]<=2025.3.0,>=2023.1.0->datasets) (6.6.4)\n",
            "Requirement already satisfied: propcache>=0.2.0 in /usr/local/lib/python3.12/dist-packages (from aiohttp!=4.0.0a0,!=4.0.0a1->fsspec[http]<=2025.3.0,>=2023.1.0->datasets) (0.3.2)\n",
            "Requirement already satisfied: yarl<2.0,>=1.17.0 in /usr/local/lib/python3.12/dist-packages (from aiohttp!=4.0.0a0,!=4.0.0a1->fsspec[http]<=2025.3.0,>=2023.1.0->datasets) (1.20.1)\n",
            "Requirement already satisfied: smmap<6,>=3.0.1 in /usr/local/lib/python3.12/dist-packages (from gitdb<5,>=4.0.1->gitpython!=3.1.29,>=1.0.0->wandb) (5.0.2)\n",
            "Requirement already satisfied: six>=1.5 in /usr/local/lib/python3.12/dist-packages (from python-dateutil>=2.8.2->pandas->datasets) (1.17.0)\n",
            "Requirement already satisfied: mpmath<1.4,>=1.1.0 in /usr/local/lib/python3.12/dist-packages (from sympy>=1.13.3->torch>=2.0.0->accelerate) (1.3.0)\n",
            "Requirement already satisfied: MarkupSafe>=2.0 in /usr/local/lib/python3.12/dist-packages (from jinja2->torch>=2.0.0->accelerate) (3.0.2)\n"
          ]
        }
      ],
      "source": [
        "!pip install datasets accelerate wandb"
      ]
    },
    {
      "cell_type": "code",
      "execution_count": 7,
      "metadata": {
        "colab": {
          "base_uri": "https://localhost:8080/"
        },
        "id": "Pgnc_WuNvFtF",
        "outputId": "f1fff4f8-1f94-4ffe-da13-4fc66756e563"
      },
      "outputs": [
        {
          "name": "stdout",
          "output_type": "stream",
          "text": [
            "  Installing build dependencies ... \u001b[?25l\u001b[?25hdone\n",
            "  Getting requirements to build wheel ... \u001b[?25l\u001b[?25hdone\n",
            "  Preparing metadata (pyproject.toml) ... \u001b[?25l\u001b[?25hdone\n",
            "  Building wheel for transformers (pyproject.toml) ... \u001b[?25l\u001b[?25hdone\n"
          ]
        }
      ],
      "source": [
        "!pip install -q git+https://github.com/huggingface/transformers@main"
      ]
    },
    {
      "cell_type": "markdown",
      "metadata": {
        "id": "vvvp7eO9vJcW"
      },
      "source": [
        "## Platform Logins\n",
        "\n",
        "In this section, we will log in to the Hugging Face Hub and Weights & Biases (Wandb). This is necessary to access pre-trained models and datasets, as well as to track our training experiments effectively."
      ]
    },
    {
      "cell_type": "markdown",
      "metadata": {
        "id": "8-1LWtWOgvnX"
      },
      "source": [
        "We'll now log in to the Hugging Face Hub. This step is crucial for downloading pre-trained models and datasets, and for uploading your trained models to the Hub. When you execute the following cell, you will be prompted to enter your Hugging Face authentication token."
      ]
    },
    {
      "cell_type": "code",
      "execution_count": 8,
      "metadata": {
        "colab": {
          "base_uri": "https://localhost:8080/",
          "height": 17,
          "referenced_widgets": [
            "a58571ec88e2416fbf3badf01625e806",
            "d38c3ee9354f44aa933b51ab50e57a78",
            "6adf4a6cd28c43a39bf4d5cd65ffd07c",
            "7734d261c0fa40268b5713c75097cb58",
            "b57c952a42cb45adb553f87d459cfbfa",
            "a043346687834c76acc8a284949852ab",
            "ff5e0cc26a3f41fabb4e163efcb577d3",
            "a170fe8d66e74f13a9de5070e68747c1",
            "afc9d963415c4052a0a089619d8c0046",
            "3e445507994d4cfbb6674963259193fb",
            "12852df6030946968d300c6bb02013db",
            "191ec12e11a74a158c19007a847d6324",
            "9c268ee0b6f84502a811a32ff050d0d6",
            "f59546924162407d8a1130c6546aee2a",
            "33cfcd231ec74be79bf884362ca8e49c",
            "35a1c30059a148a9809a1b81a9784a33",
            "2d527e60d2a140fea3d21bcbf469e2f3",
            "a93f196f36014b43aca9c0f438995099",
            "d617ca52ff5f47198a8d5625c0beaba4",
            "572ef5592b9c43b0a85f2000912fe712"
          ]
        },
        "id": "WDEFYD-pg5pq",
        "outputId": "8704d08f-b95d-4879-d3a6-ff4657491a52"
      },
      "outputs": [
        {
          "data": {
            "application/vnd.jupyter.widget-view+json": {
              "model_id": "a58571ec88e2416fbf3badf01625e806",
              "version_major": 2,
              "version_minor": 0
            },
            "text/plain": [
              "VBox(children=(HTML(value='<center> <img\\nsrc=https://huggingface.co/front/assets/huggingface_logo-noborder.sv…"
            ]
          },
          "metadata": {},
          "output_type": "display_data"
        }
      ],
      "source": [
        "from huggingface_hub import notebook_login\n",
        "\n",
        "notebook_login()"
      ]
    },
    {
      "cell_type": "markdown",
      "metadata": {
        "id": "yxXUSNY6gxrp"
      },
      "source": [
        "Next, we'll log in to Weights & Biases (Wandb). This will enable us to track the progress of our model's training in real-time. We can monitor key metrics such as loss and accuracy, and keep a detailed record of our experiments. Upon running the cell, you might need to provide your API key or authenticate through your web browser."
      ]
    },
    {
      "cell_type": "code",
      "execution_count": null,
      "metadata": {
        "id": "v059s8m7g7Ct"
      },
      "outputs": [],
      "source": [
        "import wandb\n",
        "\n",
        "wandb.login()"
      ]
    },
    {
      "cell_type": "markdown",
      "metadata": {
        "id": "DXVsa8WQgzVj"
      },
      "source": [
        "Here, we set up some environment variables to configure how Wandb operates.\n",
        "- `WANDB_START_METHOD=thread`: This sets the start method for Wandb to \"thread\". This can be beneficial in certain environments to prevent potential compatibility issues.\n",
        "- `WANDB_PROJECT=canarim-mamba-110m`: We are naming our Wandb project \"canarim-mamba-110m\". All the training runs from this notebook will be organized and logged under this project name, making it easy to compare and analyze them."
      ]
    },
    {
      "cell_type": "code",
      "execution_count": 10,
      "metadata": {
        "colab": {
          "base_uri": "https://localhost:8080/"
        },
        "id": "yQ50xG9Lg_IW",
        "outputId": "e151fcc7-329f-4b3a-b3ac-67195cca62a4"
      },
      "outputs": [
        {
          "name": "stdout",
          "output_type": "stream",
          "text": [
            "env: WANDB_START_METHOD=thread\n",
            "env: WANDB_PROJECT=canarim-mamba-110m\n"
          ]
        }
      ],
      "source": [
        "%env WANDB_START_METHOD=thread\n",
        "%env WANDB_PROJECT=canarim-mamba-110m"
      ]
    },
    {
      "cell_type": "markdown",
      "metadata": {
        "id": "KN0oOjJWg8Dk"
      },
      "source": [
        "## Installation Check\n",
        "\n",
        "In this section, we will verify the versions of the key libraries we have installed. This is a good practice to ensure that all dependencies are correctly installed and to help with debugging if any issues arise."
      ]
    },
    {
      "cell_type": "code",
      "execution_count": 11,
      "metadata": {
        "colab": {
          "base_uri": "https://localhost:8080/"
        },
        "id": "XsGUO0m1SbEk",
        "outputId": "4949c824-8252-4f90-b268-fcb3ad4a7b18"
      },
      "outputs": [
        {
          "name": "stdout",
          "output_type": "stream",
          "text": [
            "Name: transformers\n",
            "Version: 4.56.0.dev0\n",
            "Summary: State-of-the-art Machine Learning for JAX, PyTorch and TensorFlow\n",
            "Home-page: https://github.com/huggingface/transformers\n",
            "Author: The Hugging Face team (past and future) with the help of all our contributors (https://github.com/huggingface/transformers/graphs/contributors)\n",
            "Author-email: transformers@huggingface.co\n",
            "License: Apache 2.0 License\n",
            "Location: /usr/local/lib/python3.12/dist-packages\n",
            "Requires: filelock, huggingface-hub, numpy, packaging, pyyaml, regex, requests, safetensors, tokenizers, tqdm\n",
            "Required-by: mamba_ssm, peft, sentence-transformers\n"
          ]
        }
      ],
      "source": [
        "!pip show transformers"
      ]
    },
    {
      "cell_type": "code",
      "execution_count": 12,
      "metadata": {
        "colab": {
          "base_uri": "https://localhost:8080/"
        },
        "id": "ayO1PMRsSdoT",
        "outputId": "045c0550-6537-4bef-bc5d-ed5ae8bc253e"
      },
      "outputs": [
        {
          "name": "stdout",
          "output_type": "stream",
          "text": [
            "Name: datasets\n",
            "Version: 4.0.0\n",
            "Summary: HuggingFace community-driven open-source library of datasets\n",
            "Home-page: https://github.com/huggingface/datasets\n",
            "Author: HuggingFace Inc.\n",
            "Author-email: thomas@huggingface.co\n",
            "License: Apache 2.0\n",
            "Location: /usr/local/lib/python3.12/dist-packages\n",
            "Requires: dill, filelock, fsspec, huggingface-hub, multiprocess, numpy, packaging, pandas, pyarrow, pyyaml, requests, tqdm, xxhash\n",
            "Required-by: torchtune\n"
          ]
        }
      ],
      "source": [
        "!pip show datasets"
      ]
    },
    {
      "cell_type": "code",
      "execution_count": 13,
      "metadata": {
        "colab": {
          "base_uri": "https://localhost:8080/"
        },
        "id": "8PC1toIuSea9",
        "outputId": "ec6b9d47-71e8-4a12-a25c-c3dcc5cb3122"
      },
      "outputs": [
        {
          "name": "stdout",
          "output_type": "stream",
          "text": [
            "Name: mamba_ssm\n",
            "Version: 2.2.5\n",
            "Summary: Mamba state-space model\n",
            "Home-page: https://github.com/state-spaces/mamba\n",
            "Author: Tri Dao, Albert Gu\n",
            "Author-email: Tri Dao <tri@tridao.me>, Albert Gu <agu@cs.cmu.edu>\n",
            "License: Apache License\n",
            "                           Version 2.0, January 2004\n",
            "                        http://www.apache.org/licenses/\n",
            "\n",
            "   TERMS AND CONDITIONS FOR USE, REPRODUCTION, AND DISTRIBUTION\n",
            "\n",
            "   1. Definitions.\n",
            "\n",
            "      \"License\" shall mean the terms and conditions for use, reproduction,\n",
            "      and distribution as defined by Sections 1 through 9 of this document.\n",
            "\n",
            "      \"Licensor\" shall mean the copyright owner or entity authorized by\n",
            "      the copyright owner that is granting the License.\n",
            "\n",
            "      \"Legal Entity\" shall mean the union of the acting entity and all\n",
            "      other entities that control, are controlled by, or are under common\n",
            "      control with that entity. For the purposes of this definition,\n",
            "      \"control\" means (i) the power, direct or indirect, to cause the\n",
            "      direction or management of such entity, whether by contract or\n",
            "      otherwise, or (ii) ownership of fifty percent (50%) or more of the\n",
            "      outstanding shares, or (iii) beneficial ownership of such entity.\n",
            "\n",
            "      \"You\" (or \"Your\") shall mean an individual or Legal Entity\n",
            "      exercising permissions granted by this License.\n",
            "\n",
            "      \"Source\" form shall mean the preferred form for making modifications,\n",
            "      including but not limited to software source code, documentation\n",
            "      source, and configuration files.\n",
            "\n",
            "      \"Object\" form shall mean any form resulting from mechanical\n",
            "      transformation or translation of a Source form, including but\n",
            "      not limited to compiled object code, generated documentation,\n",
            "      and conversions to other media types.\n",
            "\n",
            "      \"Work\" shall mean the work of authorship, whether in Source or\n",
            "      Object form, made available under the License, as indicated by a\n",
            "      copyright notice that is included in or attached to the work\n",
            "      (an example is provided in the Appendix below).\n",
            "\n",
            "      \"Derivative Works\" shall mean any work, whether in Source or Object\n",
            "      form, that is based on (or derived from) the Work and for which the\n",
            "      editorial revisions, annotations, elaborations, or other modifications\n",
            "      represent, as a whole, an original work of authorship. For the purposes\n",
            "      of this License, Derivative Works shall not include works that remain\n",
            "      separable from, or merely link (or bind by name) to the interfaces of,\n",
            "      the Work and Derivative Works thereof.\n",
            "\n",
            "      \"Contribution\" shall mean any work of authorship, including\n",
            "      the original version of the Work and any modifications or additions\n",
            "      to that Work or Derivative Works thereof, that is intentionally\n",
            "      submitted to Licensor for inclusion in the Work by the copyright owner\n",
            "      or by an individual or Legal Entity authorized to submit on behalf of\n",
            "      the copyright owner. For the purposes of this definition, \"submitted\"\n",
            "      means any form of electronic, verbal, or written communication sent\n",
            "      to the Licensor or its representatives, including but not limited to\n",
            "      communication on electronic mailing lists, source code control systems,\n",
            "      and issue tracking systems that are managed by, or on behalf of, the\n",
            "      Licensor for the purpose of discussing and improving the Work, but\n",
            "      excluding communication that is conspicuously marked or otherwise\n",
            "      designated in writing by the copyright owner as \"Not a Contribution.\"\n",
            "\n",
            "      \"Contributor\" shall mean Licensor and any individual or Legal Entity\n",
            "      on behalf of whom a Contribution has been received by Licensor and\n",
            "      subsequently incorporated within the Work.\n",
            "\n",
            "   2. Grant of Copyright License. Subject to the terms and conditions of\n",
            "      this License, each Contributor hereby grants to You a perpetual,\n",
            "      worldwide, non-exclusive, no-charge, royalty-free, irrevocable\n",
            "      copyright license to reproduce, prepare Derivative Works of,\n",
            "      publicly display, publicly perform, sublicense, and distribute the\n",
            "      Work and such Derivative Works in Source or Object form.\n",
            "\n",
            "   3. Grant of Patent License. Subject to the terms and conditions of\n",
            "      this License, each Contributor hereby grants to You a perpetual,\n",
            "      worldwide, non-exclusive, no-charge, royalty-free, irrevocable\n",
            "      (except as stated in this section) patent license to make, have made,\n",
            "      use, offer to sell, sell, import, and otherwise transfer the Work,\n",
            "      where such license applies only to those patent claims licensable\n",
            "      by such Contributor that are necessarily infringed by their\n",
            "      Contribution(s) alone or by combination of their Contribution(s)\n",
            "      with the Work to which such Contribution(s) was submitted. If You\n",
            "      institute patent litigation against any entity (including a\n",
            "      cross-claim or counterclaim in a lawsuit) alleging that the Work\n",
            "      or a Contribution incorporated within the Work constitutes direct\n",
            "      or contributory patent infringement, then any patent licenses\n",
            "      granted to You under this License for that Work shall terminate\n",
            "      as of the date such litigation is filed.\n",
            "\n",
            "   4. Redistribution. You may reproduce and distribute copies of the\n",
            "      Work or Derivative Works thereof in any medium, with or without\n",
            "      modifications, and in Source or Object form, provided that You\n",
            "      meet the following conditions:\n",
            "\n",
            "      (a) You must give any other recipients of the Work or\n",
            "          Derivative Works a copy of this License; and\n",
            "\n",
            "      (b) You must cause any modified files to carry prominent notices\n",
            "          stating that You changed the files; and\n",
            "\n",
            "      (c) You must retain, in the Source form of any Derivative Works\n",
            "          that You distribute, all copyright, patent, trademark, and\n",
            "          attribution notices from the Source form of the Work,\n",
            "          excluding those notices that do not pertain to any part of\n",
            "          the Derivative Works; and\n",
            "\n",
            "      (d) If the Work includes a \"NOTICE\" text file as part of its\n",
            "          distribution, then any Derivative Works that You distribute must\n",
            "          include a readable copy of the attribution notices contained\n",
            "          within such NOTICE file, excluding those notices that do not\n",
            "          pertain to any part of the Derivative Works, in at least one\n",
            "          of the following places: within a NOTICE text file distributed\n",
            "          as part of the Derivative Works; within the Source form or\n",
            "          documentation, if provided along with the Derivative Works; or,\n",
            "          within a display generated by the Derivative Works, if and\n",
            "          wherever such third-party notices normally appear. The contents\n",
            "          of the NOTICE file are for informational purposes only and\n",
            "          do not modify the License. You may add Your own attribution\n",
            "          notices within Derivative Works that You distribute, alongside\n",
            "          or as an addendum to the NOTICE text from the Work, provided\n",
            "          that such additional attribution notices cannot be construed\n",
            "          as modifying the License.\n",
            "\n",
            "      You may add Your own copyright statement to Your modifications and\n",
            "      may provide additional or different license terms and conditions\n",
            "      for use, reproduction, or distribution of Your modifications, or\n",
            "      for any such Derivative Works as a whole, provided Your use,\n",
            "      reproduction, and distribution of the Work otherwise complies with\n",
            "      the conditions stated in this License.\n",
            "\n",
            "   5. Submission of Contributions. Unless You explicitly state otherwise,\n",
            "      any Contribution intentionally submitted for inclusion in the Work\n",
            "      by You to the Licensor shall be under the terms and conditions of\n",
            "      this License, without any additional terms or conditions.\n",
            "      Notwithstanding the above, nothing herein shall supersede or modify\n",
            "      the terms of any separate license agreement you may have executed\n",
            "      with Licensor regarding such Contributions.\n",
            "\n",
            "   6. Trademarks. This License does not grant permission to use the trade\n",
            "      names, trademarks, service marks, or product names of the Licensor,\n",
            "      except as required for reasonable and customary use in describing the\n",
            "      origin of the Work and reproducing the content of the NOTICE file.\n",
            "\n",
            "   7. Disclaimer of Warranty. Unless required by applicable law or\n",
            "      agreed to in writing, Licensor provides the Work (and each\n",
            "      Contributor provides its Contributions) on an \"AS IS\" BASIS,\n",
            "      WITHOUT WARRANTIES OR CONDITIONS OF ANY KIND, either express or\n",
            "      implied, including, without limitation, any warranties or conditions\n",
            "      of TITLE, NON-INFRINGEMENT, MERCHANTABILITY, or FITNESS FOR A\n",
            "      PARTICULAR PURPOSE. You are solely responsible for determining the\n",
            "      appropriateness of using or redistributing the Work and assume any\n",
            "      risks associated with Your exercise of permissions under this License.\n",
            "\n",
            "   8. Limitation of Liability. In no event and under no legal theory,\n",
            "      whether in tort (including negligence), contract, or otherwise,\n",
            "      unless required by applicable law (such as deliberate and grossly\n",
            "      negligent acts) or agreed to in writing, shall any Contributor be\n",
            "      liable to You for damages, including any direct, indirect, special,\n",
            "      incidental, or consequential damages of any character arising as a\n",
            "      result of this License or out of the use or inability to use the\n",
            "      Work (including but not limited to damages for loss of goodwill,\n",
            "      work stoppage, computer failure or malfunction, or any and all\n",
            "      other commercial damages or losses), even if such Contributor\n",
            "      has been advised of the possibility of such damages.\n",
            "\n",
            "   9. Accepting Warranty or Additional Liability. While redistributing\n",
            "      the Work or Derivative Works thereof, You may choose to offer,\n",
            "      and charge a fee for, acceptance of support, warranty, indemnity,\n",
            "      or other liability obligations and/or rights consistent with this\n",
            "      License. However, in accepting such obligations, You may act only\n",
            "      on Your own behalf and on Your sole responsibility, not on behalf\n",
            "      of any other Contributor, and only if You agree to indemnify,\n",
            "      defend, and hold each Contributor harmless for any liability\n",
            "      incurred by, or claims asserted against, such Contributor by reason\n",
            "      of your accepting any such warranty or additional liability.\n",
            "\n",
            "   END OF TERMS AND CONDITIONS\n",
            "\n",
            "   APPENDIX: How to apply the Apache License to your work.\n",
            "\n",
            "      To apply the Apache License to your work, attach the following\n",
            "      boilerplate notice, with the fields enclosed by brackets \"[]\"\n",
            "      replaced with your own identifying information. (Don't include\n",
            "      the brackets!)  The text should be enclosed in the appropriate\n",
            "      comment syntax for the file format. We also recommend that a\n",
            "      file or class name and description of purpose be included on the\n",
            "      same \"printed page\" as the copyright notice for easier\n",
            "      identification within third-party archives.\n",
            "\n",
            "   Copyright 2023 Tri Dao, Albert Gu\n",
            "\n",
            "   Licensed under the Apache License, Version 2.0 (the \"License\");\n",
            "   you may not use this file except in compliance with the License.\n",
            "   You may obtain a copy of the License at\n",
            "\n",
            "       http://www.apache.org/licenses/LICENSE-2.0\n",
            "\n",
            "   Unless required by applicable law or agreed to in writing, software\n",
            "   distributed under the License is distributed on an \"AS IS\" BASIS,\n",
            "   WITHOUT WARRANTIES OR CONDITIONS OF ANY KIND, either express or implied.\n",
            "   See the License for the specific language governing permissions and\n",
            "   limitations under the License.\n",
            "\n",
            "Location: /usr/local/lib/python3.12/dist-packages\n",
            "Requires: einops, ninja, packaging, setuptools, torch, transformers, triton\n",
            "Required-by: \n"
          ]
        }
      ],
      "source": [
        "!pip show mamba-ssm"
      ]
    },
    {
      "cell_type": "code",
      "execution_count": 14,
      "metadata": {
        "colab": {
          "base_uri": "https://localhost:8080/"
        },
        "id": "2kFmSsN1ShWu",
        "outputId": "098f33ed-61d8-45da-e4fc-17f38bfefbf2"
      },
      "outputs": [
        {
          "name": "stdout",
          "output_type": "stream",
          "text": [
            "Name: causal_conv1d\n",
            "Version: 1.5.2\n",
            "Summary: Causal depthwise conv1d in CUDA, with a PyTorch interface\n",
            "Home-page: https://github.com/Dao-AILab/causal-conv1d\n",
            "Author: Tri Dao\n",
            "Author-email: tri@tridao.me\n",
            "License: \n",
            "Location: /usr/local/lib/python3.12/dist-packages\n",
            "Requires: ninja, packaging, torch\n",
            "Required-by: \n"
          ]
        }
      ],
      "source": [
        "!pip show causal-conv1d"
      ]
    },
    {
      "cell_type": "code",
      "execution_count": 15,
      "metadata": {
        "colab": {
          "base_uri": "https://localhost:8080/"
        },
        "id": "7A07FeHpnD7B",
        "outputId": "7b33cad2-d60a-4056-b8fc-b54754642f8f"
      },
      "outputs": [
        {
          "name": "stdout",
          "output_type": "stream",
          "text": [
            "Name: torch\n",
            "Version: 2.8.0+cu126\n",
            "Summary: Tensors and Dynamic neural networks in Python with strong GPU acceleration\n",
            "Home-page: https://pytorch.org/\n",
            "Author: PyTorch Team\n",
            "Author-email: packages@pytorch.org\n",
            "License: BSD-3-Clause\n",
            "Location: /usr/local/lib/python3.12/dist-packages\n",
            "Requires: filelock, fsspec, jinja2, networkx, nvidia-cublas-cu12, nvidia-cuda-cupti-cu12, nvidia-cuda-nvrtc-cu12, nvidia-cuda-runtime-cu12, nvidia-cudnn-cu12, nvidia-cufft-cu12, nvidia-cufile-cu12, nvidia-curand-cu12, nvidia-cusolver-cu12, nvidia-cusparse-cu12, nvidia-cusparselt-cu12, nvidia-nccl-cu12, nvidia-nvjitlink-cu12, nvidia-nvtx-cu12, setuptools, sympy, triton, typing-extensions\n",
            "Required-by: accelerate, causal_conv1d, fastai, mamba_ssm, peft, sentence-transformers, timm, torchaudio, torchdata, torchvision\n"
          ]
        }
      ],
      "source": [
        "!pip show torch"
      ]
    },
    {
      "cell_type": "markdown",
      "metadata": {
        "id": "JGxiziS2Lg7v"
      },
      "source": [
        "## Library Imports\n",
        "\n",
        "Now, let's import the necessary modules and classes from the libraries we've installed. These imports are essential for loading the dataset, setting up the model architecture, and executing the training process."
      ]
    },
    {
      "cell_type": "code",
      "execution_count": 16,
      "metadata": {
        "id": "-vt-N3e5LYBO"
      },
      "outputs": [],
      "source": [
        "import json\n",
        "import os\n",
        "import torch\n",
        "\n",
        "import datasets\n",
        "\n",
        "from datasets import load_dataset\n",
        "from transformers import default_data_collator\n",
        "from transformers import AutoTokenizer, MambaConfig, MambaForCausalLM\n",
        "from transformers import Trainer, TrainingArguments"
      ]
    },
    {
      "cell_type": "markdown",
      "metadata": {
        "id": "eK1CCW2DMKYa"
      },
      "source": [
        "## Dataset Loading\n",
        "\n",
        "In this section, we will load the dataset that will be used for both training and evaluating our Mamba model. A high-quality dataset is fundamental for training a capable language model."
      ]
    },
    {
      "cell_type": "markdown",
      "metadata": {
        "id": "nu4rW0R7hFb0"
      },
      "source": [
        "We will load the \"nicholasKluge/Pt-Corpus-Instruct-tokenized-large\" dataset from the Hugging Face Hub. This dataset is pre-tokenized, which means the text has already been converted into a numerical format that the model can understand. We'll use `num_proc=12` to specify that 12 processes should be used to load the data in parallel, which will significantly speed up the loading time. The result will be a `DatasetDict` object, which conveniently holds both the training and testing splits of the data."
      ]
    },
    {
      "cell_type": "code",
      "execution_count": 20,
      "metadata": {
        "colab": {
          "base_uri": "https://localhost:8080/",
          "height": 397,
          "referenced_widgets": [
            "8fe0516e85df499e923923d3ad05c4f9",
            "35ec2dfd5e5c4e7180f10e42b8ee8af9",
            "6d02464e5b644148b79068ff9476f171",
            "462a10dd2896476fb697a86f9dd6df1f",
            "665474a6afc74501949f63eeb8f9f56b",
            "cba7331b9e9f41a1ad46d0802a0f8b81",
            "0f0578528db241558e6a8fa2720b6abf",
            "a8d7315b919546ba928380a1205e9a8c",
            "73334cc08b39457ab31f5b8a29c87c4f",
            "ecd430e3d36b469684a6e7b322ebe542",
            "657eaab8a8f84a05a87cba2cac76f1f6",
            "c368fb16ae93493cae2c8e536615cf50",
            "8bc2d8a78b184d36aaafa973b24d1b66",
            "aacead3a07114c4c9f9c0736dbb04392",
            "77b9cce4abcb40198b7a1eb998ec2e03",
            "7d5b2684751a4a6e97cb90f2cc3e61b9",
            "cadeda76ab8e4b69b3f5ab4a2447b77d",
            "0216c4bf1e7042e198b7b174c80578eb",
            "edd40067c39a41da9b6584e0897bc76a",
            "532be3b359014195a050dbfa26ba34f9",
            "772d95771e334156b2d3e99adcd4c0a6",
            "2d18b30447c74cc3928b9f949a3147a7",
            "690414258ad1451890f40b5f8340018e",
            "f7d338181bb043caad93ad5e5702927f",
            "e260db980a9848ec98bca7730632a2ca",
            "d74f8a0d818b4e04a081d93ae4281604",
            "d406ce9a428e4ec5bd1f841583fc67fe",
            "425741b70c604890823952ed45ae43eb",
            "2cbe3515c62b483488f88eafa504f428",
            "ba9e3cecbf3841fcbeb4b97157db2454",
            "92c9ab48501f47eaa21f993140605610",
            "a72532a7cbd34ae6859bd6b5d14525f9",
            "01927538e9084f3d91c3c9d558fff80d",
            "81a438b2dc8b4ab8a1e2c88a6ee5c54e",
            "96a9df56374f46c8b70f18fdfd9de1eb",
            "a4c3b490232744e79a682a20a0c03976",
            "199ce825f3154a258ce671cce9ec1a43",
            "b4eeec8ba7894925a9d86b30183634f7",
            "d3a5cee7004a4972ba66a4321388850f",
            "779eb02fb5a340f2a9bea25c166925f3",
            "b26d2b4e1b64414fac722f89693b3d20",
            "480b20bd58af4c0eb2cccbc7372e132c",
            "ef0e74437a334cb7ac1f0743c1188957",
            "82a332bd677c49ca9499ebdd99467585",
            "63636e3024994df796011267da7e664e",
            "dbaf63fc33824e9cbe8f154dbeefc96d",
            "92fd4df6cb1b481c9c009f8c39655598",
            "d719b1dc5e4c4f0aa7b3f1d5d10e6f13",
            "2d073337fda548a2bd21fd8e9781a251",
            "2d05bf99b5374b34b92e62494afee549",
            "76eda070ba25445dbfbf7fabc94cbae5",
            "64f41e335ea94841aa8058146f6ca278",
            "1a365c1b6bd14388aecebf45c6b7bba3",
            "dbfaf4b04bc7411ba2acf0da70e031a7",
            "10f87f48cfbb4228849cf30c31f7a203"
          ]
        },
        "id": "s-au6Kw925BZ",
        "outputId": "53f245ee-6172-44e6-d8dc-2fb0bc2793f3"
      },
      "outputs": [
        {
          "data": {
            "application/vnd.jupyter.widget-view+json": {
              "model_id": "8fe0516e85df499e923923d3ad05c4f9",
              "version_major": 2,
              "version_minor": 0
            },
            "text/plain": [
              "Resolving data files:   0%|          | 0/162 [00:00<?, ?it/s]"
            ]
          },
          "metadata": {},
          "output_type": "display_data"
        },
        {
          "data": {
            "application/vnd.jupyter.widget-view+json": {
              "model_id": "c368fb16ae93493cae2c8e536615cf50",
              "version_major": 2,
              "version_minor": 0
            },
            "text/plain": [
              "Resolving data files:   0%|          | 0/162 [00:00<?, ?it/s]"
            ]
          },
          "metadata": {},
          "output_type": "display_data"
        },
        {
          "data": {
            "application/vnd.jupyter.widget-view+json": {
              "model_id": "690414258ad1451890f40b5f8340018e",
              "version_major": 2,
              "version_minor": 0
            },
            "text/plain": [
              "Generating train split:   0%|          | 0/3033690 [00:00<?, ? examples/s]"
            ]
          },
          "metadata": {},
          "output_type": "display_data"
        },
        {
          "name": "stderr",
          "output_type": "stream",
          "text": [
            "Setting num_proc from 12 to 2 for the test split as it only contains 2 shards.\n",
            "WARNING:datasets.builder:Setting num_proc from 12 to 2 for the test split as it only contains 2 shards.\n"
          ]
        },
        {
          "data": {
            "application/vnd.jupyter.widget-view+json": {
              "model_id": "81a438b2dc8b4ab8a1e2c88a6ee5c54e",
              "version_major": 2,
              "version_minor": 0
            },
            "text/plain": [
              "Generating test split:   0%|          | 0/30000 [00:00<?, ? examples/s]"
            ]
          },
          "metadata": {},
          "output_type": "display_data"
        },
        {
          "data": {
            "application/vnd.jupyter.widget-view+json": {
              "model_id": "63636e3024994df796011267da7e664e",
              "version_major": 2,
              "version_minor": 0
            },
            "text/plain": [
              "Loading dataset shards:   0%|          | 0/162 [00:00<?, ?it/s]"
            ]
          },
          "metadata": {},
          "output_type": "display_data"
        },
        {
          "data": {
            "text/plain": [
              "DatasetDict({\n",
              "    train: Dataset({\n",
              "        features: ['input_ids', 'attention_mask', 'labels'],\n",
              "        num_rows: 3033690\n",
              "    })\n",
              "    test: Dataset({\n",
              "        features: ['input_ids', 'attention_mask', 'labels'],\n",
              "        num_rows: 30000\n",
              "    })\n",
              "})"
            ]
          },
          "execution_count": 20,
          "metadata": {},
          "output_type": "execute_result"
        }
      ],
      "source": [
        "ds = load_dataset(\"nicholasKluge/Pt-Corpus-Instruct-tokenized-large\", num_proc=12)\n",
        "ds"
      ]
    },
    {
      "cell_type": "markdown",
      "metadata": {
        "id": "cZLDY2LUhGqc"
      },
      "source": [
        "## Tokenizer Configuration\n",
        "\n",
        "Now, we will set up the tokenizer. A tokenizer is responsible for converting raw text into a sequence of tokens (numerical representations) that the model can process. It's a crucial component in any natural language processing pipeline."
      ]
    },
    {
      "cell_type": "code",
      "execution_count": 21,
      "metadata": {
        "id": "I7JRSajcyjK8"
      },
      "outputs": [],
      "source": [
        "tokenizer_model_id = \"nicholasKluge/TeenyTinyLlama-460m\""
      ]
    },
    {
      "cell_type": "markdown",
      "metadata": {
        "id": "qhZdTBqdhLi9"
      },
      "source": [
        "We will load a pre-trained tokenizer using `AutoTokenizer.from_pretrained`. The `tokenizer_model_id` specifies which tokenizer to load from the Hugging Face Hub. We set `use_fast=True` to load a \"fast\" tokenizer, which is implemented in Rust and is generally more performant. This tokenizer will handle the conversion of text into numerical IDs that our Mamba model can understand."
      ]
    },
    {
      "cell_type": "code",
      "execution_count": 22,
      "metadata": {
        "colab": {
          "base_uri": "https://localhost:8080/",
          "height": 113,
          "referenced_widgets": [
            "83b27c6410c649fe8c3dd396cd5eae38",
            "5a9eb2e10b9f4c10821be365b3ce60a9",
            "45d234c65d764bcfb3e03071af3055df",
            "b57fc02d1119453fbee862455cc160f9",
            "5ec28060a2b0415f973a2991bf95812b",
            "63cf602cb14944b593305a0425d64f68",
            "9eb059b4f1024a44b0d70cc7ae6e7941",
            "5e84f0bb439849f79ef582e61f1f64a8",
            "5f79dd60d868485ca0005d1bc8b30eea",
            "8dbf09f25442424aaac929c8977ea84d",
            "28553bf07cd34867b764f36137f990e3",
            "0a56859738ac4babbec896a9359186e7",
            "b18551296e95450dbb2fcbe0cc9146e9",
            "68ecf207e9324451a33ef3c0b5b7fff4",
            "7c652a3a1e8e4e28b31e5fe5933747f2",
            "ed5b1bed2d50419c9a4d978d9f335d10",
            "2aa80fb726624c7b8905c0a3d71004aa",
            "4674caebe64a4bd4886eda3dd727c2bd",
            "5cf0b3ebd8264a11b5f4374653ece341",
            "cfaf4849fdad405082ad9db088839dfc",
            "5643ceac677e4be18c9c896741d24743",
            "911692cf5fbd4015bcbb74d18bdf282a",
            "a91c2475ef944de5a2fbcc3c82321284",
            "0bd064a4222345f9b2f71e3db56f48d7",
            "cc1dc8fc08c44f469eb8d7c990cd9e5a",
            "2eae7dbc2713484f9b44e0924b543831",
            "341e7e71ceb542e0994ce629ac34dc8f",
            "7e504a7d029c4a5eab89c0fa99ab84f8",
            "691af746af37492b9d0ef49773dcaddb",
            "f2d429a8629b4c49a734ae9b9b040d2e",
            "e7587338648d44f28fc6971a65420fe2",
            "0618403572914331ac3c1974880896ce",
            "44933676e23a43d992e129dd66a05336"
          ]
        },
        "id": "N67LxhkfxLJ1",
        "outputId": "f06b077e-8b23-4af9-ca6b-dee6de5edfd6"
      },
      "outputs": [
        {
          "data": {
            "application/vnd.jupyter.widget-view+json": {
              "model_id": "83b27c6410c649fe8c3dd396cd5eae38",
              "version_major": 2,
              "version_minor": 0
            },
            "text/plain": [
              "tokenizer_config.json: 0.00B [00:00, ?B/s]"
            ]
          },
          "metadata": {},
          "output_type": "display_data"
        },
        {
          "data": {
            "application/vnd.jupyter.widget-view+json": {
              "model_id": "0a56859738ac4babbec896a9359186e7",
              "version_major": 2,
              "version_minor": 0
            },
            "text/plain": [
              "tokenizer.json: 0.00B [00:00, ?B/s]"
            ]
          },
          "metadata": {},
          "output_type": "display_data"
        },
        {
          "data": {
            "application/vnd.jupyter.widget-view+json": {
              "model_id": "a91c2475ef944de5a2fbcc3c82321284",
              "version_major": 2,
              "version_minor": 0
            },
            "text/plain": [
              "special_tokens_map.json:   0%|          | 0.00/552 [00:00<?, ?B/s]"
            ]
          },
          "metadata": {},
          "output_type": "display_data"
        }
      ],
      "source": [
        "tokenizer = AutoTokenizer.from_pretrained(tokenizer_model_id, use_fast=True)"
      ]
    },
    {
      "cell_type": "markdown",
      "metadata": {
        "id": "3z-EKenwhOOr"
      },
      "source": [
        "Let's inspect the length of the `input_ids` for the first example in our training set. This will give us an idea of the sequence length we are working with."
      ]
    },
    {
      "cell_type": "code",
      "execution_count": 23,
      "metadata": {
        "colab": {
          "base_uri": "https://localhost:8080/"
        },
        "id": "1JB4AvcPOkzq",
        "outputId": "78922841-c865-4b5d-e18f-5d535a8acd9a"
      },
      "outputs": [
        {
          "data": {
            "text/plain": [
              "2048"
            ]
          },
          "execution_count": 23,
          "metadata": {},
          "output_type": "execute_result"
        }
      ],
      "source": [
        "len(ds[\"train\"][0][\"input_ids\"])"
      ]
    },
    {
      "cell_type": "markdown",
      "metadata": {
        "id": "4bBsJdoRhPaR"
      },
      "source": [
        "Now, let's decode the `input_ids` of the first training example back into human-readable text. This is a good way to verify that our tokenizer is working as expected and to get a feel for the data we are training on."
      ]
    },
    {
      "cell_type": "code",
      "execution_count": 24,
      "metadata": {
        "colab": {
          "base_uri": "https://localhost:8080/",
          "height": 110
        },
        "id": "yJuZQ4UROnu1",
        "outputId": "a85823c9-9537-446f-bba7-5f50841d2f23"
      },
      "outputs": [
        {
          "data": {
            "application/vnd.google.colaboratory.intrinsic+json": {
              "type": "string"
            },
            "text/plain": [
              "'tempos, iniciado por George Lucas em 1977. A Disney investiu US$ 4,4 bilhões pelos direitos de fazer as próximas sequências.\\nAbrams prometeu que \"Despertar da Força\" não vai ser uma \"viagem nostálgica\" sobre as trajetórias dos irmãos Leia e Luke e a transformação do pai da dupla, Anakin Skywalker no vilão Darth Vader.\\nFilmagem foi mantida em segredo\\nPoucos detalhes foram liberados sobre o novo filme; sabe-se que o episódio acontece 30 anos após o final de \"O Retorno do Jedi\" (1983), terceira parte da trilogia inicial. Outra trilogia surgiu entre 1999 e 2005, contando cronologicamente o que teria passado antes dos primeiros episódios. O segundo trio de aventuras, no entanto, não fez tanto sucesso quanto o primeiro.\\nOutros personagens igualmente míticos estiveram presentes no evento: o robô C-3PO e Chewbacca, o gigante peludo, amigo fiel de Han Solo.\\nPara viver os novos personagens, foram convidados atores como Oscar Isaac e Lupita Nyong\\'o, além de novatos como John Boyega e Daisy Ridley.\\nMilhões de fãs pelo mundo\\nGuerra nas Estrelas é uma história também de sucesso de marketing. As previsões são de que o novo episódio possa gerar até US$ 5 bilhões em produtos derivados. A epopeia espacial tem milhões de fãs pelo mundo todo, além de fãs clubes, exposições internacionais e até um dia internacional dedicado ao tema.<s> Festival de Roma terá filmes com Keira Knightley e Nicole Kidman | Cultura | Reuters\\n27 de Agosto de 2010 / às 12:20 / em 7 anos\\nFestival de Roma terá filmes com Keira Knightley e Nicole Kidman\\nROMA (Reuters Life!) - A atriz britânica Keira Knightley abrirá o Festival Internacional de Cinema de Roma, que será realizado entre os dias 28 de outubro e 5 de novembro, disseram organizadores.\\nKeira Knightley durante coletiva de imprensa antes do Festival de Cinema de Toronto em 2008. Knightley abrirá o Festival Internacional de Cinema de Roma, entre os dias 28 de outubro e 5 de novembro. 07/09/2008 REUTERS/ Mike Cassese/Arquivo\\nO filme \"Last Night\", dirigido e roteirizado por Massy Tadjedin, também contará com a estrela Eva Mendes e está sendo descrito no festival como \"um conto romântico sobre atração sexual, traição e ciúmes\".\\nO evento de 2010 tenta competir com o festival de cinema de Veneza, realizado algumas semanas antes, e exibirá outros filmes como \"Rabbit Hole\", dirigido por John Cameron Mitchell e com Nicole Kidman, Dianne Wiest e Aaron Eckhart.\\nO filme conta a história de um casal que enfrenta a perda repentina do filho. O complicado casamento passa por mais testes com o luto.\\nA seção Focus do festival de Roma destacará o cinema e cultura do Japão e terá um evento especial dedicado ao diretor Akira Kurosawa no centenário de seu nascimento.<s> Como preparar uma entrevista a um candidato a emprego\\nRecursos Humanos No Comments\\nUma entrevista de emprego é a oportunidade ideal para candidato e recrutador trocarem informações importantes para ambos. Ao ficar a conhecer o candidato a emprego o recrutador vai prever com mais exactidão a forma como este se irá comportar nas funções a que se propõe. Por seu lado, o candidato durante a entrevista de emprego ficará a conhecer dados sobre a empresa e a função a que se candidatou. Torna-se por isso fundamental para o recrutador preparar a entrevista do candidato a emprego com antecedência, de forma a tirar melhor partido das informações obtidas.\\nDefina o local e a duração da entrevista\\nPara que a entrevista seja bem sucedida deverá ter sempre em conta aspectos importantes como o local e a duração da entrevista de emprego. Deverá definir antecipadamente um local que proporcione as melhores condições, tanto ao candidato como ao próprio entrevistador, para que o dialogo entre as partes flua e se consiga atingir os objectivos previamente propostos. Locais com um ambiente desconfortável podem ser intimidantes para o candidato a emprego, e você pode perder um funcionário potencialmente valioso. O local da entrevista de emprego deverá preferencialmente ser bem iluminado, para permitir a observação de parte a parte, e possuir uma mesa do tipo de reuniões, para que a relação seja o mais igualitária possível.\\nDeverá evitar sofrer qualquer tipo de interrupção durante o decorrer da entrevista de emprego. Não permita chamadas telefónicas, ou estará a passar uma imagem de mau profissionalismo e desrespeito pelo candidato. Caso não seja possível desligar o telefone, coloque-o no silencioso ou peça à recepcionista para que não transfira as chamadas para o local em que decorre a entrevista.\\nEstipule um tempo necessário para a entrevista de emprego. Leve o tempo que for preciso com cada candidato para obter todas as informações necessárias e transmitir tudo o que o candidato necessita saber sobre a função. O recrutador nunca deve apressar a entrevista ou corre o risco de sugerir que o tempo do candidato não é valorizado. A entrevista também não deverá durar para além do estipulado, não correndo o risco de fazer esperar outros candidatos e criando tensão indesejável.\\nO recrutador deverá evitar agendar entrevistas durante os horários que são mais previsíveis de sofrer alterações devido a perturbações, como o início ou no fim do dia.\\nDefina os requisitos para a função\\nDetermine quais são os requisitos fundamentais que procura num candidato para desempenhar de forma eficaz a função. Este pequeno pormenor vai-lhe permitir encontrar mais facilmente a pessoa indicada para a vaga disponível, em vez de apenas escolher o melhor candidato de uma série de entrevistas. Deverá ser elaborado cuidadosamente um perfil onde estão identificadas as qualidades necessárias para um bom desempenho do cargo. O documento deve servir de base a todo o processo e nunca ser esquecido ao longo das várias fases do recrutamento.\\nAo preparar entrevista tenha sempre em conta que cada candidato responde de forma diferente à pressão exercida durante a entrevista, podendo ser omitidas informações menos positivas pelo candidato a emprego e valorizadas capacidades que lhe garantam mais facilmente o acesso ao cargo. O stress da entrevista de emprego poderá inclusive originar atitudes que alteram a personalidade do candidato, podendo desencadear bloqueios na comunicação, excessos de reserva ou de afirmação.\\nTags: candidato, candidato a emprego, entrevista, entrevista de emprego, preparar entrevista, recrutador\\nRespeito e motivação andam juntos\\nTodo ser humano realiza suas atividades em busca de recompensa, mas existem várias formas de <unk>\\nMedidas disciplinares e advertências a funcionários\\nEmbora possa ser uma tarefa assustadora e muitas vezes desagradável, disciplinar funcionários é uma parte <unk><s> Staying Strong: Waitin\\' for you\\nEsses dias eu estava pensando em como antes eu tinhas idéias super legais aqui no blog, só que aos poucos eu estava caindo em decadência, não só com as postagens do blog, mas sim com minha vida pessoal. Vocês não sabem como pra mim é um passo muito grande em estar postando essas fotos, a 5 meses atrás fui diagnosticada com \\'Transtorno de Ansiedade\\' e \\'Depressão\\', sei que muitas pessoas vão perguntar porque eu não contei nada e nunca demonstrei, mas eu estava assustada com tudo o que estava acontecendo comigo, e que as vezes ainda vem acontecer, mas uma coisa que eu aprendi foi que - você tem que seguir em frente - não importa a situação, você tem que sempre seguir em frente.\\nFotos simples, mas que tem mais significados do que vocês imaginam. Resume meu estado de espírito a qual ficaram escondidos por muito tempo, e faltava coragem para mostrar ao mundo, quem sou de verdade.<s> Nessa IQ Option horário de negociação plataforma você pode vender dois tipos de produtos, que são eles. Visão Global Problemas Afro-americanos e Teologia Problemas Asiático-americanos e Teologia Cosmovisão Cristão Cultura Acontecimentos Atuais Economia Política Oriente Médio Desastres Naturais Pós-modernismo Terrorismo.\\nA adaptação às condições em evolução é um pré-requisito para alcançar a longevidade no mercado. Simplificando, o que funcionou hoje pode não funcionar amanhã. Para se manter competitivo ao longo do tempo, um trader deve ter uma idéia de onde o mercado está, para onde pode ir e como otimizar o desempenho ao longo do caminho. Se você acredita em determinada situação e ainda não conseguiu, persita, crie novos meios para conseguir o seu alvo, mude sua estratégia, busque a ajuda de pessoas certas que se você persistir você vai conseguir chegar ao seu objetivo.\\nComece com uma conta de forex demo. O MetaTrader 4 Platform (MT4) é o mais popular terminal de negociação Forex online do mundo. Vantage FX Forex Broker. Além do Ibovespa, André comentou sobre 7 ações que poderiam dar entradas, caso o mercado volte a subir; e 4 ações que poderiam acelerar as IQ Option horário de negociação perdas em um cenário mais baixista para o índice. São elas.\\nDessa forma, o investidor terá uma loja onde irá trabalhar com os produtos e serviços que a marca possui. \"Sou trader profissional da bolsa esportiva IQ Option horário de negociação e já estou neste mercado há mais de dois anos, então tenho bastante experiência para falar desse mercado de trader. E o meu intuito é estar fazendo a recomendação do curso do Weldes Campos. Já o conheço como profissional há bastante tempo e sei que ele é um dos melhores do Brasil em operações binárias. No início, um dos meus maiores problemas foi a busca incessante de informações. Quando nos deparamos com um novo mercado, queremos aprender de qualquer forma, então acabamos por buscar informações em lugares errados. Aprenda com quem é profissional, aprenda com Weldes Campos, com o curso Opções Binárias Fácil, que é o melhor curso do mercado.\" (Jesum Duarte).\\nUm trader é uma pessoa qualificada que é capaz de prever os preços. Ele não usa sua intuição, mas ferramentas especiais como vários indicadores, padrões de análise técnica e muitos outros métodos. Isso é o que você pode aprender gratuitamente na plataforma de negociação da Olymp Trade. Qualquer pessoa pode aprender estratégias de negociação populares e testar sua eficácia em uma conta de demonstração. Não há necessidade de depositar seus próprios fundos. Os sinais de especialistas recomendam o estoque de licença de sites melhor. Dechat no dia do mercado com rentabilidade do'"
            ]
          },
          "execution_count": 24,
          "metadata": {},
          "output_type": "execute_result"
        }
      ],
      "source": [
        "tokenizer.decode(ds[\"train\"][0][\"input_ids\"])"
      ]
    },
    {
      "cell_type": "markdown",
      "metadata": {
        "id": "mN6KRubSiwy-"
      },
      "source": [
        "## Model Hyperparameter Definition\n",
        "\n",
        "In this section, we will define the key hyperparameters that determine the architecture of our Mamba model. These parameters control the size and complexity of the model."
      ]
    },
    {
      "cell_type": "markdown",
      "metadata": {
        "id": "8_7NF4EjhTTK"
      },
      "source": [
        "Here, we set the core hyperparameters for our Mamba model:\n",
        "- `vocab_size`: This is the total number of unique tokens in our tokenizer's vocabulary.\n",
        "- `hidden_size`: This defines the dimensionality of the model's internal representations and embeddings. It's a key factor in determining the model's capacity.\n",
        "- `expand`: An expansion factor used within the Mamba blocks to determine the size of the intermediate layers.\n",
        "- `num_hidden_layers`: This specifies the number of Mamba blocks to stack, which determines the depth of the model.\n",
        "- `intermediate_size`: The size of the intermediate layer within each Mamba block, calculated by multiplying `hidden_size` by the `expand` factor."
      ]
    },
    {
      "cell_type": "code",
      "execution_count": 25,
      "metadata": {
        "id": "P45BpKgrV7z7"
      },
      "outputs": [],
      "source": [
        "vocab_size = 32000\n",
        "hidden_size = 768\n",
        "expand = 2\n",
        "num_hidden_layers = 12\n",
        "intermediate_size = hidden_size * expand"
      ]
    },
    {
      "cell_type": "markdown",
      "metadata": {
        "id": "D6txdnAAhXk1"
      },
      "source": [
        "## Model Parameter Calculation\n",
        "\n",
        "In this section, we'll estimate the total number of parameters in our Mamba model based on the hyperparameters we've defined. It's important to note that the following calculations are based on a Transformer-like architecture for estimation purposes. The actual parameter count in a Mamba model is determined by its unique components, including the State Space Model (SSM) blocks and their projection matrices. This estimation will still give us a good sense of the model's size."
      ]
    },
    {
      "cell_type": "markdown",
      "metadata": {
        "id": "xhFU_D9thcf8"
      },
      "source": [
        "First, let's calculate the number of parameters in the embedding layer. This layer is responsible for mapping each token ID from our vocabulary to a dense vector of size `hidden_size`. The number of parameters is simply the product of the vocabulary size and the hidden size."
      ]
    },
    {
      "cell_type": "code",
      "execution_count": 26,
      "metadata": {
        "colab": {
          "base_uri": "https://localhost:8080/"
        },
        "id": "exU9GsxbV9Fs",
        "outputId": "8e7ba9fa-a211-4856-fa1f-ea0f744635d1"
      },
      "outputs": [
        {
          "data": {
            "text/plain": [
              "24576000"
            ]
          },
          "execution_count": 26,
          "metadata": {},
          "output_type": "execute_result"
        }
      ],
      "source": [
        "# Cálculo dos parâmetros dos Embeddings\n",
        "embedding_params = vocab_size * hidden_size\n",
        "embedding_params"
      ]
    },
    {
      "cell_type": "markdown",
      "metadata": {
        "id": "aG2GF-VIhd4j"
      },
      "source": [
        "Here, we estimate the number of parameters for the attention and MLP components within each decoder layer. **Important Note:** This calculation is based on a standard Transformer architecture (with 4 linear projections in the attention mechanism). However, the Mamba architecture does not use a traditional attention mechanism. Instead, it employs a State Space Model (SSM) block. This calculation serves as a rough estimation and might not precisely reflect the parameter count of a Mamba block."
      ]
    },
    {
      "cell_type": "code",
      "execution_count": 27,
      "metadata": {
        "colab": {
          "base_uri": "https://localhost:8080/"
        },
        "id": "CdOpWbNTV98H",
        "outputId": "11eb73ca-946e-417d-cd9e-f2093e4460f4"
      },
      "outputs": [
        {
          "data": {
            "text/plain": [
              "2359296"
            ]
          },
          "execution_count": 27,
          "metadata": {},
          "output_type": "execute_result"
        }
      ],
      "source": [
        "# Cálculo dos parâmetros das camadas de atenção e MLP em cada camada de decodificador\n",
        "# 4 projeções lineares na atenção e 3 na MLP, todas sem bias\n",
        "attention_params_per_layer = 4 * (hidden_size * hidden_size)\n",
        "attention_params_per_layer"
      ]
    },
    {
      "cell_type": "markdown",
      "metadata": {
        "id": "TSB27pkKhiHz"
      },
      "source": [
        "This cell estimates the number of parameters in the MLP (Multi-Layer Perceptron) part of each decoder layer. As with the attention calculation, this is based on a Transformer-like structure and should be considered an approximation for our Mamba model."
      ]
    },
    {
      "cell_type": "code",
      "execution_count": 28,
      "metadata": {
        "colab": {
          "base_uri": "https://localhost:8080/"
        },
        "id": "hgCx-5jEV-0U",
        "outputId": "bc83d9a3-4304-4f9e-b407-b772c210cd8d"
      },
      "outputs": [
        {
          "data": {
            "text/plain": [
              "3538944"
            ]
          },
          "execution_count": 28,
          "metadata": {},
          "output_type": "execute_result"
        }
      ],
      "source": [
        "mlp_params_per_layer = (hidden_size * intermediate_size) + \\\n",
        "    (hidden_size * intermediate_size) + \\\n",
        "    (intermediate_size * hidden_size)\n",
        "mlp_params_per_layer"
      ]
    },
    {
      "cell_type": "markdown",
      "metadata": {
        "id": "w-6jufGchj4G"
      },
      "source": [
        "Now, we calculate the total number of parameters across all the decoder layers (in our case, the Mamba blocks). We do this by multiplying our estimated number of parameters per layer by the total number of hidden layers."
      ]
    },
    {
      "cell_type": "code",
      "execution_count": 29,
      "metadata": {
        "colab": {
          "base_uri": "https://localhost:8080/"
        },
        "id": "i0JfUMXlV_0k",
        "outputId": "11deb6ca-0766-4ddd-82d0-1f626b3e50fa"
      },
      "outputs": [
        {
          "data": {
            "text/plain": [
              "70778880"
            ]
          },
          "execution_count": 29,
          "metadata": {},
          "output_type": "execute_result"
        }
      ],
      "source": [
        "decoder_layer_params = (attention_params_per_layer + mlp_params_per_layer) * num_hidden_layers\n",
        "decoder_layer_params"
      ]
    },
    {
      "cell_type": "markdown",
      "metadata": {
        "id": "sDxUQIHvhmF4"
      },
      "source": [
        "The `lm_head` (language model head) is the final layer of the model. It takes the model's final hidden state and projects it back to the vocabulary size to produce a probability distribution over all possible next tokens. The number of parameters in this layer is the product of the hidden size and the vocabulary size."
      ]
    },
    {
      "cell_type": "code",
      "execution_count": 30,
      "metadata": {
        "colab": {
          "base_uri": "https://localhost:8080/"
        },
        "id": "lV_DswotWBHS",
        "outputId": "5603592f-cc78-46aa-bc05-87d6aa1c5434"
      },
      "outputs": [
        {
          "data": {
            "text/plain": [
              "24576000"
            ]
          },
          "execution_count": 30,
          "metadata": {},
          "output_type": "execute_result"
        }
      ],
      "source": [
        "# Cálculo dos parâmetros da cabeça do modelo de linguagem (lm_head)\n",
        "lm_head_params = hidden_size * vocab_size\n",
        "lm_head_params"
      ]
    },
    {
      "cell_type": "markdown",
      "metadata": {
        "id": "ZoecvVDThoEd"
      },
      "source": [
        "Finally, we sum up the parameters from the embedding layer, the decoder layers (using our Transformer-based estimation), and the language model head to get an estimate of the total number of parameters in our model."
      ]
    },
    {
      "cell_type": "code",
      "execution_count": 31,
      "metadata": {
        "colab": {
          "base_uri": "https://localhost:8080/"
        },
        "id": "OmeE3vuvWB7h",
        "outputId": "03065a7c-7037-4318-8907-c61c2c869b47"
      },
      "outputs": [
        {
          "name": "stdout",
          "output_type": "stream",
          "text": [
            "Total de parametros do modelo: 119,930,880\n"
          ]
        }
      ],
      "source": [
        "total_params = embedding_params + decoder_layer_params + lm_head_params\n",
        "print(f\"Total de parametros do modelo: {total_params:,}\")"
      ]
    },
    {
      "cell_type": "markdown",
      "metadata": {
        "id": "7N4of8hAV7Gx"
      },
      "source": [
        "## Training Configuration\n",
        "\n",
        "In this section, we will define the hyperparameters and settings for the training process. We will be using the `Trainer` class from the Hugging Face `transformers` library to handle the training loop."
      ]
    },
    {
      "cell_type": "markdown",
      "metadata": {
        "id": "DfUy7ZhIhrhI"
      },
      "source": [
        "Here, we set several important hyperparameters for our training run:\n",
        "- `bs` (batch size): The number of training examples to process in a single forward and backward pass on each device.\n",
        "- `ga_steps` (gradient accumulation steps): The number of steps to accumulate gradients before performing a weight update. This is a useful technique to effectively increase the batch size without increasing memory usage. The effective batch size will be `bs * ga_steps`.\n",
        "- `epochs`: The total number of times the model will iterate over the entire training dataset.\n",
        "- `steps_per_epoch`: The number of training steps to perform in each epoch.\n",
        "- `lr` (learning rate): The initial learning rate for the optimizer."
      ]
    },
    {
      "cell_type": "code",
      "execution_count": 32,
      "metadata": {
        "id": "qoua7INvdwNk"
      },
      "outputs": [],
      "source": [
        "bs=16        # batch size\n",
        "ga_steps=2   # gradient acc. steps\n",
        "epochs=1\n",
        "steps_per_epoch=1000\n",
        "lr=0.00005"
      ]
    },
    {
      "cell_type": "markdown",
      "metadata": {
        "id": "lD9xnFwYhuLz"
      },
      "source": [
        "We specify the directory where all the outputs of the training process, such as model checkpoints and logs, will be saved."
      ]
    },
    {
      "cell_type": "code",
      "execution_count": 33,
      "metadata": {
        "id": "gehllYJ3p9eu"
      },
      "outputs": [],
      "source": [
        "output_dir = \"./canarim-mamba-110m\""
      ]
    },
    {
      "cell_type": "markdown",
      "metadata": {
        "id": "l32zaa8lhveo"
      },
      "source": [
        "A `data_collator` is a function that takes a list of samples from the dataset and prepares them into a batch. Here, we use `default_data_collator`, which is suitable for our pre-tokenized dataset as it will simply batch the samples together."
      ]
    },
    {
      "cell_type": "code",
      "execution_count": 34,
      "metadata": {
        "id": "xKiILOGrp1d3"
      },
      "outputs": [],
      "source": [
        "data_collator = default_data_collator"
      ]
    },
    {
      "cell_type": "markdown",
      "metadata": {
        "id": "aastpyhuhyDd"
      },
      "source": [
        "We will now create a `MambaConfig` object. This object holds all the configuration details for our Mamba model's architecture. We will pass the hyperparameters we defined earlier, such as `vocab_size`, `hidden_size`, and `num_hidden_layers`, as well as the special token IDs from our tokenizer (padding, beginning of sequence, and end of sequence)."
      ]
    },
    {
      "cell_type": "code",
      "execution_count": 35,
      "metadata": {
        "id": "I9D1R_Vvcanf"
      },
      "outputs": [],
      "source": [
        "config_model = MambaConfig(\n",
        "    vocab_size= 32000,\n",
        "    hidden_size=768,\n",
        "    num_hidden_layers= 12,\n",
        "    pad_token_id = tokenizer.pad_token_id,\n",
        "    bos_token_id = tokenizer.bos_token_id,\n",
        "    eos_token_id = tokenizer.eos_token_id\n",
        ")"
      ]
    },
    {
      "cell_type": "markdown",
      "metadata": {
        "id": "il1KiGMNh4sp"
      },
      "source": [
        "With the configuration object created, we can now instantiate our Mamba model. We will use the `MambaForCausalLM` class, which is specifically designed for causal language modeling tasks (i.e., predicting the next token in a sequence)."
      ]
    },
    {
      "cell_type": "code",
      "execution_count": 36,
      "metadata": {
        "colab": {
          "base_uri": "https://localhost:8080/"
        },
        "id": "09Tdd-4zdKGU",
        "outputId": "a9d92411-8f5e-4ea6-ee16-303d088c3319"
      },
      "outputs": [
        {
          "data": {
            "text/plain": [
              "MambaForCausalLM(\n",
              "  (backbone): MambaModel(\n",
              "    (embeddings): Embedding(32000, 768)\n",
              "    (layers): ModuleList(\n",
              "      (0-11): 12 x MambaBlock(\n",
              "        (norm): MambaRMSNorm(768, eps=1e-05)\n",
              "        (mixer): MambaMixer(\n",
              "          (conv1d): Conv1d(1536, 1536, kernel_size=(4,), stride=(1,), padding=(3,), groups=1536)\n",
              "          (act): SiLU()\n",
              "          (in_proj): Linear(in_features=768, out_features=3072, bias=False)\n",
              "          (x_proj): Linear(in_features=1536, out_features=80, bias=False)\n",
              "          (dt_proj): Linear(in_features=48, out_features=1536, bias=True)\n",
              "          (out_proj): Linear(in_features=1536, out_features=768, bias=False)\n",
              "        )\n",
              "      )\n",
              "    )\n",
              "    (norm_f): MambaRMSNorm(768, eps=1e-05)\n",
              "  )\n",
              "  (lm_head): Linear(in_features=768, out_features=32000, bias=False)\n",
              ")"
            ]
          },
          "execution_count": 36,
          "metadata": {},
          "output_type": "execute_result"
        }
      ],
      "source": [
        "model = MambaForCausalLM(\n",
        "    config_model,\n",
        ")\n",
        "model"
      ]
    },
    {
      "cell_type": "markdown",
      "metadata": {
        "id": "Gbzmm3gvh7Jy"
      },
      "source": [
        "The `TrainingArguments` class allows us to specify a wide range of settings and hyperparameters for our training process. Here, we configure things like the output directory, batch sizes, evaluation strategy, logging frequency, gradient accumulation, number of epochs, learning rate scheduler, and enabling `bf16` for mixed-precision training to speed up computation and reduce memory usage. We also configure it to report the training metrics to Wandb."
      ]
    },
    {
      "cell_type": "code",
      "execution_count": 38,
      "metadata": {
        "id": "EtDQ_4ch4axg"
      },
      "outputs": [],
      "source": [
        "args = TrainingArguments(\n",
        "    output_dir=output_dir,\n",
        "    per_device_train_batch_size=bs,\n",
        "    per_device_eval_batch_size=bs,\n",
        "    eval_strategy=\"steps\",\n",
        "    logging_steps=1,\n",
        "    eval_steps=steps_per_epoch,\n",
        "    save_steps=steps_per_epoch,\n",
        "    save_total_limit=3,\n",
        "    gradient_accumulation_steps=ga_steps,\n",
        "    num_train_epochs=epochs,\n",
        "    lr_scheduler_type=\"cosine\",\n",
        "    learning_rate=lr,\n",
        "    bf16=True,\n",
        "    ddp_find_unused_parameters=False,\n",
        "    save_safetensors=False,\n",
        "    report_to=\"wandb\"\n",
        ")"
      ]
    },
    {
      "cell_type": "markdown",
      "metadata": {
        "id": "UAMBLXJ_h9Kk"
      },
      "source": [
        "## Trainer Initialization\n",
        "\n",
        "Now that we have our model, training arguments, data collator, and datasets ready, we can initialize the `Trainer` object. The `Trainer` will bring all these components together to manage the training and evaluation process."
      ]
    },
    {
      "cell_type": "markdown",
      "metadata": {
        "id": "Y6XkPvIph-bH"
      },
      "source": [
        "We create an instance of the `Trainer` class, passing in our model, tokenizer, training arguments, data collator, and our training and evaluation datasets. The `Trainer` provides a high-level API that abstracts away much of the boilerplate code typically required for training a model in PyTorch."
      ]
    },
    {
      "cell_type": "code",
      "execution_count": null,
      "metadata": {
        "colab": {
          "base_uri": "https://localhost:8080/"
        },
        "id": "5nzWKYsGe0ep",
        "outputId": "0a8c241b-6b88-4160-9e0c-11c4748edfdd"
      },
      "outputs": [],
      "source": [
        "trainer = Trainer(\n",
        "    model=model,\n",
        "    tokenizer=tokenizer,\n",
        "    args=args,\n",
        "    data_collator=data_collator,\n",
        "    train_dataset=ds[\"train\"],\n",
        "    eval_dataset=ds[\"test\"],\n",
        ")"
      ]
    },
    {
      "cell_type": "markdown",
      "metadata": {
        "id": "rqmBOIr6iACg"
      },
      "source": [
        "## Model Training\n",
        "\n",
        "It's time to start training our Mamba model! With everything set up, a single call to the `train()` method of our `Trainer` object will kick off the training process."
      ]
    },
    {
      "cell_type": "markdown",
      "metadata": {
        "id": "fp0RwiZhiAqc"
      },
      "source": [
        "By calling `trainer.train()`, we initiate the training loop. The `Trainer` will handle all the details, including iterating through the training data, performing forward and backward passes, updating the model's weights, and periodically evaluating the model on the test set. It will also log metrics to Wandb and save model checkpoints at the specified intervals. Let's start the training!"
      ]
    },
    {
      "cell_type": "code",
      "execution_count": 40,
      "metadata": {
        "colab": {
          "base_uri": "https://localhost:8080/",
          "height": 465
        },
        "id": "nFRRxvgHhr2k",
        "outputId": "402f87d8-49fa-49de-cd88-556145a179b7"
      },
      "outputs": [
        {
          "data": {
            "text/html": [
              "Changes to your `wandb` environment variables will be ignored because your `wandb` session has already started. For more information on how to modify your settings with `wandb.init()` arguments, please refer to <a href='https://wandb.me/wandb-init' target=\"_blank\">the W&B docs</a>."
            ],
            "text/plain": [
              "<IPython.core.display.HTML object>"
            ]
          },
          "metadata": {},
          "output_type": "display_data"
        },
        {
          "data": {
            "text/html": [
              "Tracking run with wandb version 0.21.1"
            ],
            "text/plain": [
              "<IPython.core.display.HTML object>"
            ]
          },
          "metadata": {},
          "output_type": "display_data"
        },
        {
          "data": {
            "text/html": [
              "Run data is saved locally in <code>/content/causal-conv1d/wandb/run-20250820_163932-49grjq5w</code>"
            ],
            "text/plain": [
              "<IPython.core.display.HTML object>"
            ]
          },
          "metadata": {},
          "output_type": "display_data"
        },
        {
          "data": {
            "text/html": [
              "Syncing run <strong><a href='https://wandb.ai/dominguesm/canarim-mamba-110m/runs/49grjq5w' target=\"_blank\">absurd-leaf-17</a></strong> to <a href='https://wandb.ai/dominguesm/canarim-mamba-110m' target=\"_blank\">Weights & Biases</a> (<a href='https://wandb.me/developer-guide' target=\"_blank\">docs</a>)<br>"
            ],
            "text/plain": [
              "<IPython.core.display.HTML object>"
            ]
          },
          "metadata": {},
          "output_type": "display_data"
        },
        {
          "data": {
            "text/html": [
              " View project at <a href='https://wandb.ai/dominguesm/canarim-mamba-110m' target=\"_blank\">https://wandb.ai/dominguesm/canarim-mamba-110m</a>"
            ],
            "text/plain": [
              "<IPython.core.display.HTML object>"
            ]
          },
          "metadata": {},
          "output_type": "display_data"
        },
        {
          "data": {
            "text/html": [
              " View run at <a href='https://wandb.ai/dominguesm/canarim-mamba-110m/runs/49grjq5w' target=\"_blank\">https://wandb.ai/dominguesm/canarim-mamba-110m/runs/49grjq5w</a>"
            ],
            "text/plain": [
              "<IPython.core.display.HTML object>"
            ]
          },
          "metadata": {},
          "output_type": "display_data"
        },
        {
          "data": {
            "text/html": [
              "\n",
              "    <div>\n",
              "      \n",
              "      <progress value='13' max='94803' style='width:300px; height:20px; vertical-align: middle;'></progress>\n",
              "      [   13/94803 00:30 < 72:40:46, 0.36 it/s, Epoch 0.00/1]\n",
              "    </div>\n",
              "    <table border=\"1\" class=\"dataframe\">\n",
              "  <thead>\n",
              " <tr style=\"text-align: left;\">\n",
              "      <th>Step</th>\n",
              "      <th>Training Loss</th>\n",
              "      <th>Validation Loss</th>\n",
              "    </tr>\n",
              "  </thead>\n",
              "  <tbody>\n",
              "  </tbody>\n",
              "</table><p>"
            ],
            "text/plain": [
              "<IPython.core.display.HTML object>"
            ]
          },
          "metadata": {},
          "output_type": "display_data"
        }
      ],
      "source": [
        "trainer.train()"
      ]
    }
  ],
  "metadata": {
    "accelerator": "GPU",
    "colab": {
      "gpuType": "L4",
      "machine_shape": "hm",
      "provenance": []
    },
    "kernelspec": {
      "display_name": "Python 3",
      "name": "python3"
    },
    "language_info": {
      "name": "python"
    },
    "widgets": {
      "application/vnd.jupyter.widget-state+json": {
        "01927538e9084f3d91c3c9d558fff80d": {
          "model_module": "@jupyter-widgets/controls",
          "model_module_version": "1.5.0",
          "model_name": "DescriptionStyleModel",
          "state": {
            "_model_module": "@jupyter-widgets/controls",
            "_model_module_version": "1.5.0",
            "_model_name": "DescriptionStyleModel",
            "_view_count": null,
            "_view_module": "@jupyter-widgets/base",
            "_view_module_version": "1.2.0",
            "_view_name": "StyleView",
            "description_width": ""
          }
        },
        "0216c4bf1e7042e198b7b174c80578eb": {
          "model_module": "@jupyter-widgets/controls",
          "model_module_version": "1.5.0",
          "model_name": "DescriptionStyleModel",
          "state": {
            "_model_module": "@jupyter-widgets/controls",
            "_model_module_version": "1.5.0",
            "_model_name": "DescriptionStyleModel",
            "_view_count": null,
            "_view_module": "@jupyter-widgets/base",
            "_view_module_version": "1.2.0",
            "_view_name": "StyleView",
            "description_width": ""
          }
        },
        "0618403572914331ac3c1974880896ce": {
          "model_module": "@jupyter-widgets/base",
          "model_module_version": "1.2.0",
          "model_name": "LayoutModel",
          "state": {
            "_model_module": "@jupyter-widgets/base",
            "_model_module_version": "1.2.0",
            "_model_name": "LayoutModel",
            "_view_count": null,
            "_view_module": "@jupyter-widgets/base",
            "_view_module_version": "1.2.0",
            "_view_name": "LayoutView",
            "align_content": null,
            "align_items": null,
            "align_self": null,
            "border": null,
            "bottom": null,
            "display": null,
            "flex": null,
            "flex_flow": null,
            "grid_area": null,
            "grid_auto_columns": null,
            "grid_auto_flow": null,
            "grid_auto_rows": null,
            "grid_column": null,
            "grid_gap": null,
            "grid_row": null,
            "grid_template_areas": null,
            "grid_template_columns": null,
            "grid_template_rows": null,
            "height": null,
            "justify_content": null,
            "justify_items": null,
            "left": null,
            "margin": null,
            "max_height": null,
            "max_width": null,
            "min_height": null,
            "min_width": null,
            "object_fit": null,
            "object_position": null,
            "order": null,
            "overflow": null,
            "overflow_x": null,
            "overflow_y": null,
            "padding": null,
            "right": null,
            "top": null,
            "visibility": null,
            "width": null
          }
        },
        "0a56859738ac4babbec896a9359186e7": {
          "model_module": "@jupyter-widgets/controls",
          "model_module_version": "1.5.0",
          "model_name": "HBoxModel",
          "state": {
            "_dom_classes": [],
            "_model_module": "@jupyter-widgets/controls",
            "_model_module_version": "1.5.0",
            "_model_name": "HBoxModel",
            "_view_count": null,
            "_view_module": "@jupyter-widgets/controls",
            "_view_module_version": "1.5.0",
            "_view_name": "HBoxView",
            "box_style": "",
            "children": [
              "IPY_MODEL_b18551296e95450dbb2fcbe0cc9146e9",
              "IPY_MODEL_68ecf207e9324451a33ef3c0b5b7fff4",
              "IPY_MODEL_7c652a3a1e8e4e28b31e5fe5933747f2"
            ],
            "layout": "IPY_MODEL_ed5b1bed2d50419c9a4d978d9f335d10"
          }
        },
        "0bd064a4222345f9b2f71e3db56f48d7": {
          "model_module": "@jupyter-widgets/controls",
          "model_module_version": "1.5.0",
          "model_name": "HTMLModel",
          "state": {
            "_dom_classes": [],
            "_model_module": "@jupyter-widgets/controls",
            "_model_module_version": "1.5.0",
            "_model_name": "HTMLModel",
            "_view_count": null,
            "_view_module": "@jupyter-widgets/controls",
            "_view_module_version": "1.5.0",
            "_view_name": "HTMLView",
            "description": "",
            "description_tooltip": null,
            "layout": "IPY_MODEL_7e504a7d029c4a5eab89c0fa99ab84f8",
            "placeholder": "​",
            "style": "IPY_MODEL_691af746af37492b9d0ef49773dcaddb",
            "value": "special_tokens_map.json: 100%"
          }
        },
        "0f0578528db241558e6a8fa2720b6abf": {
          "model_module": "@jupyter-widgets/controls",
          "model_module_version": "1.5.0",
          "model_name": "DescriptionStyleModel",
          "state": {
            "_model_module": "@jupyter-widgets/controls",
            "_model_module_version": "1.5.0",
            "_model_name": "DescriptionStyleModel",
            "_view_count": null,
            "_view_module": "@jupyter-widgets/base",
            "_view_module_version": "1.2.0",
            "_view_name": "StyleView",
            "description_width": ""
          }
        },
        "10f87f48cfbb4228849cf30c31f7a203": {
          "model_module": "@jupyter-widgets/controls",
          "model_module_version": "1.5.0",
          "model_name": "DescriptionStyleModel",
          "state": {
            "_model_module": "@jupyter-widgets/controls",
            "_model_module_version": "1.5.0",
            "_model_name": "DescriptionStyleModel",
            "_view_count": null,
            "_view_module": "@jupyter-widgets/base",
            "_view_module_version": "1.2.0",
            "_view_name": "StyleView",
            "description_width": ""
          }
        },
        "12852df6030946968d300c6bb02013db": {
          "model_module": "@jupyter-widgets/controls",
          "model_module_version": "1.5.0",
          "model_name": "DescriptionStyleModel",
          "state": {
            "_model_module": "@jupyter-widgets/controls",
            "_model_module_version": "1.5.0",
            "_model_name": "DescriptionStyleModel",
            "_view_count": null,
            "_view_module": "@jupyter-widgets/base",
            "_view_module_version": "1.2.0",
            "_view_name": "StyleView",
            "description_width": ""
          }
        },
        "191ec12e11a74a158c19007a847d6324": {
          "model_module": "@jupyter-widgets/base",
          "model_module_version": "1.2.0",
          "model_name": "LayoutModel",
          "state": {
            "_model_module": "@jupyter-widgets/base",
            "_model_module_version": "1.2.0",
            "_model_name": "LayoutModel",
            "_view_count": null,
            "_view_module": "@jupyter-widgets/base",
            "_view_module_version": "1.2.0",
            "_view_name": "LayoutView",
            "align_content": null,
            "align_items": null,
            "align_self": null,
            "border": null,
            "bottom": null,
            "display": null,
            "flex": null,
            "flex_flow": null,
            "grid_area": null,
            "grid_auto_columns": null,
            "grid_auto_flow": null,
            "grid_auto_rows": null,
            "grid_column": null,
            "grid_gap": null,
            "grid_row": null,
            "grid_template_areas": null,
            "grid_template_columns": null,
            "grid_template_rows": null,
            "height": null,
            "justify_content": null,
            "justify_items": null,
            "left": null,
            "margin": null,
            "max_height": null,
            "max_width": null,
            "min_height": null,
            "min_width": null,
            "object_fit": null,
            "object_position": null,
            "order": null,
            "overflow": null,
            "overflow_x": null,
            "overflow_y": null,
            "padding": null,
            "right": null,
            "top": null,
            "visibility": null,
            "width": null
          }
        },
        "199ce825f3154a258ce671cce9ec1a43": {
          "model_module": "@jupyter-widgets/controls",
          "model_module_version": "1.5.0",
          "model_name": "HTMLModel",
          "state": {
            "_dom_classes": [],
            "_model_module": "@jupyter-widgets/controls",
            "_model_module_version": "1.5.0",
            "_model_name": "HTMLModel",
            "_view_count": null,
            "_view_module": "@jupyter-widgets/controls",
            "_view_module_version": "1.5.0",
            "_view_name": "HTMLView",
            "description": "",
            "description_tooltip": null,
            "layout": "IPY_MODEL_ef0e74437a334cb7ac1f0743c1188957",
            "placeholder": "​",
            "style": "IPY_MODEL_82a332bd677c49ca9499ebdd99467585",
            "value": " 30000/30000 [00:01&lt;00:00, 23152.68 examples/s]"
          }
        },
        "1a365c1b6bd14388aecebf45c6b7bba3": {
          "model_module": "@jupyter-widgets/controls",
          "model_module_version": "1.5.0",
          "model_name": "ProgressStyleModel",
          "state": {
            "_model_module": "@jupyter-widgets/controls",
            "_model_module_version": "1.5.0",
            "_model_name": "ProgressStyleModel",
            "_view_count": null,
            "_view_module": "@jupyter-widgets/base",
            "_view_module_version": "1.2.0",
            "_view_name": "StyleView",
            "bar_color": null,
            "description_width": ""
          }
        },
        "28553bf07cd34867b764f36137f990e3": {
          "model_module": "@jupyter-widgets/controls",
          "model_module_version": "1.5.0",
          "model_name": "DescriptionStyleModel",
          "state": {
            "_model_module": "@jupyter-widgets/controls",
            "_model_module_version": "1.5.0",
            "_model_name": "DescriptionStyleModel",
            "_view_count": null,
            "_view_module": "@jupyter-widgets/base",
            "_view_module_version": "1.2.0",
            "_view_name": "StyleView",
            "description_width": ""
          }
        },
        "2aa80fb726624c7b8905c0a3d71004aa": {
          "model_module": "@jupyter-widgets/base",
          "model_module_version": "1.2.0",
          "model_name": "LayoutModel",
          "state": {
            "_model_module": "@jupyter-widgets/base",
            "_model_module_version": "1.2.0",
            "_model_name": "LayoutModel",
            "_view_count": null,
            "_view_module": "@jupyter-widgets/base",
            "_view_module_version": "1.2.0",
            "_view_name": "LayoutView",
            "align_content": null,
            "align_items": null,
            "align_self": null,
            "border": null,
            "bottom": null,
            "display": null,
            "flex": null,
            "flex_flow": null,
            "grid_area": null,
            "grid_auto_columns": null,
            "grid_auto_flow": null,
            "grid_auto_rows": null,
            "grid_column": null,
            "grid_gap": null,
            "grid_row": null,
            "grid_template_areas": null,
            "grid_template_columns": null,
            "grid_template_rows": null,
            "height": null,
            "justify_content": null,
            "justify_items": null,
            "left": null,
            "margin": null,
            "max_height": null,
            "max_width": null,
            "min_height": null,
            "min_width": null,
            "object_fit": null,
            "object_position": null,
            "order": null,
            "overflow": null,
            "overflow_x": null,
            "overflow_y": null,
            "padding": null,
            "right": null,
            "top": null,
            "visibility": null,
            "width": null
          }
        },
        "2cbe3515c62b483488f88eafa504f428": {
          "model_module": "@jupyter-widgets/controls",
          "model_module_version": "1.5.0",
          "model_name": "DescriptionStyleModel",
          "state": {
            "_model_module": "@jupyter-widgets/controls",
            "_model_module_version": "1.5.0",
            "_model_name": "DescriptionStyleModel",
            "_view_count": null,
            "_view_module": "@jupyter-widgets/base",
            "_view_module_version": "1.2.0",
            "_view_name": "StyleView",
            "description_width": ""
          }
        },
        "2d05bf99b5374b34b92e62494afee549": {
          "model_module": "@jupyter-widgets/base",
          "model_module_version": "1.2.0",
          "model_name": "LayoutModel",
          "state": {
            "_model_module": "@jupyter-widgets/base",
            "_model_module_version": "1.2.0",
            "_model_name": "LayoutModel",
            "_view_count": null,
            "_view_module": "@jupyter-widgets/base",
            "_view_module_version": "1.2.0",
            "_view_name": "LayoutView",
            "align_content": null,
            "align_items": null,
            "align_self": null,
            "border": null,
            "bottom": null,
            "display": null,
            "flex": null,
            "flex_flow": null,
            "grid_area": null,
            "grid_auto_columns": null,
            "grid_auto_flow": null,
            "grid_auto_rows": null,
            "grid_column": null,
            "grid_gap": null,
            "grid_row": null,
            "grid_template_areas": null,
            "grid_template_columns": null,
            "grid_template_rows": null,
            "height": null,
            "justify_content": null,
            "justify_items": null,
            "left": null,
            "margin": null,
            "max_height": null,
            "max_width": null,
            "min_height": null,
            "min_width": null,
            "object_fit": null,
            "object_position": null,
            "order": null,
            "overflow": null,
            "overflow_x": null,
            "overflow_y": null,
            "padding": null,
            "right": null,
            "top": null,
            "visibility": null,
            "width": null
          }
        },
        "2d073337fda548a2bd21fd8e9781a251": {
          "model_module": "@jupyter-widgets/base",
          "model_module_version": "1.2.0",
          "model_name": "LayoutModel",
          "state": {
            "_model_module": "@jupyter-widgets/base",
            "_model_module_version": "1.2.0",
            "_model_name": "LayoutModel",
            "_view_count": null,
            "_view_module": "@jupyter-widgets/base",
            "_view_module_version": "1.2.0",
            "_view_name": "LayoutView",
            "align_content": null,
            "align_items": null,
            "align_self": null,
            "border": null,
            "bottom": null,
            "display": null,
            "flex": null,
            "flex_flow": null,
            "grid_area": null,
            "grid_auto_columns": null,
            "grid_auto_flow": null,
            "grid_auto_rows": null,
            "grid_column": null,
            "grid_gap": null,
            "grid_row": null,
            "grid_template_areas": null,
            "grid_template_columns": null,
            "grid_template_rows": null,
            "height": null,
            "justify_content": null,
            "justify_items": null,
            "left": null,
            "margin": null,
            "max_height": null,
            "max_width": null,
            "min_height": null,
            "min_width": null,
            "object_fit": null,
            "object_position": null,
            "order": null,
            "overflow": null,
            "overflow_x": null,
            "overflow_y": null,
            "padding": null,
            "right": null,
            "top": null,
            "visibility": null,
            "width": null
          }
        },
        "2d18b30447c74cc3928b9f949a3147a7": {
          "model_module": "@jupyter-widgets/controls",
          "model_module_version": "1.5.0",
          "model_name": "DescriptionStyleModel",
          "state": {
            "_model_module": "@jupyter-widgets/controls",
            "_model_module_version": "1.5.0",
            "_model_name": "DescriptionStyleModel",
            "_view_count": null,
            "_view_module": "@jupyter-widgets/base",
            "_view_module_version": "1.2.0",
            "_view_name": "StyleView",
            "description_width": ""
          }
        },
        "2d527e60d2a140fea3d21bcbf469e2f3": {
          "model_module": "@jupyter-widgets/controls",
          "model_module_version": "1.5.0",
          "model_name": "DescriptionStyleModel",
          "state": {
            "_model_module": "@jupyter-widgets/controls",
            "_model_module_version": "1.5.0",
            "_model_name": "DescriptionStyleModel",
            "_view_count": null,
            "_view_module": "@jupyter-widgets/base",
            "_view_module_version": "1.2.0",
            "_view_name": "StyleView",
            "description_width": ""
          }
        },
        "2eae7dbc2713484f9b44e0924b543831": {
          "model_module": "@jupyter-widgets/controls",
          "model_module_version": "1.5.0",
          "model_name": "HTMLModel",
          "state": {
            "_dom_classes": [],
            "_model_module": "@jupyter-widgets/controls",
            "_model_module_version": "1.5.0",
            "_model_name": "HTMLModel",
            "_view_count": null,
            "_view_module": "@jupyter-widgets/controls",
            "_view_module_version": "1.5.0",
            "_view_name": "HTMLView",
            "description": "",
            "description_tooltip": null,
            "layout": "IPY_MODEL_0618403572914331ac3c1974880896ce",
            "placeholder": "​",
            "style": "IPY_MODEL_44933676e23a43d992e129dd66a05336",
            "value": " 552/552 [00:00&lt;00:00, 70.4kB/s]"
          }
        },
        "33cfcd231ec74be79bf884362ca8e49c": {
          "model_module": "@jupyter-widgets/controls",
          "model_module_version": "1.5.0",
          "model_name": "ButtonStyleModel",
          "state": {
            "_model_module": "@jupyter-widgets/controls",
            "_model_module_version": "1.5.0",
            "_model_name": "ButtonStyleModel",
            "_view_count": null,
            "_view_module": "@jupyter-widgets/base",
            "_view_module_version": "1.2.0",
            "_view_name": "StyleView",
            "button_color": null,
            "font_weight": ""
          }
        },
        "341e7e71ceb542e0994ce629ac34dc8f": {
          "model_module": "@jupyter-widgets/base",
          "model_module_version": "1.2.0",
          "model_name": "LayoutModel",
          "state": {
            "_model_module": "@jupyter-widgets/base",
            "_model_module_version": "1.2.0",
            "_model_name": "LayoutModel",
            "_view_count": null,
            "_view_module": "@jupyter-widgets/base",
            "_view_module_version": "1.2.0",
            "_view_name": "LayoutView",
            "align_content": null,
            "align_items": null,
            "align_self": null,
            "border": null,
            "bottom": null,
            "display": null,
            "flex": null,
            "flex_flow": null,
            "grid_area": null,
            "grid_auto_columns": null,
            "grid_auto_flow": null,
            "grid_auto_rows": null,
            "grid_column": null,
            "grid_gap": null,
            "grid_row": null,
            "grid_template_areas": null,
            "grid_template_columns": null,
            "grid_template_rows": null,
            "height": null,
            "justify_content": null,
            "justify_items": null,
            "left": null,
            "margin": null,
            "max_height": null,
            "max_width": null,
            "min_height": null,
            "min_width": null,
            "object_fit": null,
            "object_position": null,
            "order": null,
            "overflow": null,
            "overflow_x": null,
            "overflow_y": null,
            "padding": null,
            "right": null,
            "top": null,
            "visibility": null,
            "width": null
          }
        },
        "35a1c30059a148a9809a1b81a9784a33": {
          "model_module": "@jupyter-widgets/base",
          "model_module_version": "1.2.0",
          "model_name": "LayoutModel",
          "state": {
            "_model_module": "@jupyter-widgets/base",
            "_model_module_version": "1.2.0",
            "_model_name": "LayoutModel",
            "_view_count": null,
            "_view_module": "@jupyter-widgets/base",
            "_view_module_version": "1.2.0",
            "_view_name": "LayoutView",
            "align_content": null,
            "align_items": null,
            "align_self": null,
            "border": null,
            "bottom": null,
            "display": null,
            "flex": null,
            "flex_flow": null,
            "grid_area": null,
            "grid_auto_columns": null,
            "grid_auto_flow": null,
            "grid_auto_rows": null,
            "grid_column": null,
            "grid_gap": null,
            "grid_row": null,
            "grid_template_areas": null,
            "grid_template_columns": null,
            "grid_template_rows": null,
            "height": null,
            "justify_content": null,
            "justify_items": null,
            "left": null,
            "margin": null,
            "max_height": null,
            "max_width": null,
            "min_height": null,
            "min_width": null,
            "object_fit": null,
            "object_position": null,
            "order": null,
            "overflow": null,
            "overflow_x": null,
            "overflow_y": null,
            "padding": null,
            "right": null,
            "top": null,
            "visibility": null,
            "width": null
          }
        },
        "35ec2dfd5e5c4e7180f10e42b8ee8af9": {
          "model_module": "@jupyter-widgets/controls",
          "model_module_version": "1.5.0",
          "model_name": "HTMLModel",
          "state": {
            "_dom_classes": [],
            "_model_module": "@jupyter-widgets/controls",
            "_model_module_version": "1.5.0",
            "_model_name": "HTMLModel",
            "_view_count": null,
            "_view_module": "@jupyter-widgets/controls",
            "_view_module_version": "1.5.0",
            "_view_name": "HTMLView",
            "description": "",
            "description_tooltip": null,
            "layout": "IPY_MODEL_cba7331b9e9f41a1ad46d0802a0f8b81",
            "placeholder": "​",
            "style": "IPY_MODEL_0f0578528db241558e6a8fa2720b6abf",
            "value": "Resolving data files: 100%"
          }
        },
        "3e445507994d4cfbb6674963259193fb": {
          "model_module": "@jupyter-widgets/base",
          "model_module_version": "1.2.0",
          "model_name": "LayoutModel",
          "state": {
            "_model_module": "@jupyter-widgets/base",
            "_model_module_version": "1.2.0",
            "_model_name": "LayoutModel",
            "_view_count": null,
            "_view_module": "@jupyter-widgets/base",
            "_view_module_version": "1.2.0",
            "_view_name": "LayoutView",
            "align_content": null,
            "align_items": null,
            "align_self": null,
            "border": null,
            "bottom": null,
            "display": null,
            "flex": null,
            "flex_flow": null,
            "grid_area": null,
            "grid_auto_columns": null,
            "grid_auto_flow": null,
            "grid_auto_rows": null,
            "grid_column": null,
            "grid_gap": null,
            "grid_row": null,
            "grid_template_areas": null,
            "grid_template_columns": null,
            "grid_template_rows": null,
            "height": null,
            "justify_content": null,
            "justify_items": null,
            "left": null,
            "margin": null,
            "max_height": null,
            "max_width": null,
            "min_height": null,
            "min_width": null,
            "object_fit": null,
            "object_position": null,
            "order": null,
            "overflow": null,
            "overflow_x": null,
            "overflow_y": null,
            "padding": null,
            "right": null,
            "top": null,
            "visibility": null,
            "width": null
          }
        },
        "425741b70c604890823952ed45ae43eb": {
          "model_module": "@jupyter-widgets/base",
          "model_module_version": "1.2.0",
          "model_name": "LayoutModel",
          "state": {
            "_model_module": "@jupyter-widgets/base",
            "_model_module_version": "1.2.0",
            "_model_name": "LayoutModel",
            "_view_count": null,
            "_view_module": "@jupyter-widgets/base",
            "_view_module_version": "1.2.0",
            "_view_name": "LayoutView",
            "align_content": null,
            "align_items": null,
            "align_self": null,
            "border": null,
            "bottom": null,
            "display": null,
            "flex": null,
            "flex_flow": null,
            "grid_area": null,
            "grid_auto_columns": null,
            "grid_auto_flow": null,
            "grid_auto_rows": null,
            "grid_column": null,
            "grid_gap": null,
            "grid_row": null,
            "grid_template_areas": null,
            "grid_template_columns": null,
            "grid_template_rows": null,
            "height": null,
            "justify_content": null,
            "justify_items": null,
            "left": null,
            "margin": null,
            "max_height": null,
            "max_width": null,
            "min_height": null,
            "min_width": null,
            "object_fit": null,
            "object_position": null,
            "order": null,
            "overflow": null,
            "overflow_x": null,
            "overflow_y": null,
            "padding": null,
            "right": null,
            "top": null,
            "visibility": null,
            "width": null
          }
        },
        "44933676e23a43d992e129dd66a05336": {
          "model_module": "@jupyter-widgets/controls",
          "model_module_version": "1.5.0",
          "model_name": "DescriptionStyleModel",
          "state": {
            "_model_module": "@jupyter-widgets/controls",
            "_model_module_version": "1.5.0",
            "_model_name": "DescriptionStyleModel",
            "_view_count": null,
            "_view_module": "@jupyter-widgets/base",
            "_view_module_version": "1.2.0",
            "_view_name": "StyleView",
            "description_width": ""
          }
        },
        "45d234c65d764bcfb3e03071af3055df": {
          "model_module": "@jupyter-widgets/controls",
          "model_module_version": "1.5.0",
          "model_name": "FloatProgressModel",
          "state": {
            "_dom_classes": [],
            "_model_module": "@jupyter-widgets/controls",
            "_model_module_version": "1.5.0",
            "_model_name": "FloatProgressModel",
            "_view_count": null,
            "_view_module": "@jupyter-widgets/controls",
            "_view_module_version": "1.5.0",
            "_view_name": "ProgressView",
            "bar_style": "success",
            "description": "",
            "description_tooltip": null,
            "layout": "IPY_MODEL_5e84f0bb439849f79ef582e61f1f64a8",
            "max": 1,
            "min": 0,
            "orientation": "horizontal",
            "style": "IPY_MODEL_5f79dd60d868485ca0005d1bc8b30eea",
            "value": 1
          }
        },
        "462a10dd2896476fb697a86f9dd6df1f": {
          "model_module": "@jupyter-widgets/controls",
          "model_module_version": "1.5.0",
          "model_name": "HTMLModel",
          "state": {
            "_dom_classes": [],
            "_model_module": "@jupyter-widgets/controls",
            "_model_module_version": "1.5.0",
            "_model_name": "HTMLModel",
            "_view_count": null,
            "_view_module": "@jupyter-widgets/controls",
            "_view_module_version": "1.5.0",
            "_view_name": "HTMLView",
            "description": "",
            "description_tooltip": null,
            "layout": "IPY_MODEL_ecd430e3d36b469684a6e7b322ebe542",
            "placeholder": "​",
            "style": "IPY_MODEL_657eaab8a8f84a05a87cba2cac76f1f6",
            "value": " 162/162 [00:00&lt;00:00, 37.17it/s]"
          }
        },
        "4674caebe64a4bd4886eda3dd727c2bd": {
          "model_module": "@jupyter-widgets/controls",
          "model_module_version": "1.5.0",
          "model_name": "DescriptionStyleModel",
          "state": {
            "_model_module": "@jupyter-widgets/controls",
            "_model_module_version": "1.5.0",
            "_model_name": "DescriptionStyleModel",
            "_view_count": null,
            "_view_module": "@jupyter-widgets/base",
            "_view_module_version": "1.2.0",
            "_view_name": "StyleView",
            "description_width": ""
          }
        },
        "480b20bd58af4c0eb2cccbc7372e132c": {
          "model_module": "@jupyter-widgets/controls",
          "model_module_version": "1.5.0",
          "model_name": "ProgressStyleModel",
          "state": {
            "_model_module": "@jupyter-widgets/controls",
            "_model_module_version": "1.5.0",
            "_model_name": "ProgressStyleModel",
            "_view_count": null,
            "_view_module": "@jupyter-widgets/base",
            "_view_module_version": "1.2.0",
            "_view_name": "StyleView",
            "bar_color": null,
            "description_width": ""
          }
        },
        "532be3b359014195a050dbfa26ba34f9": {
          "model_module": "@jupyter-widgets/controls",
          "model_module_version": "1.5.0",
          "model_name": "ProgressStyleModel",
          "state": {
            "_model_module": "@jupyter-widgets/controls",
            "_model_module_version": "1.5.0",
            "_model_name": "ProgressStyleModel",
            "_view_count": null,
            "_view_module": "@jupyter-widgets/base",
            "_view_module_version": "1.2.0",
            "_view_name": "StyleView",
            "bar_color": null,
            "description_width": ""
          }
        },
        "5643ceac677e4be18c9c896741d24743": {
          "model_module": "@jupyter-widgets/base",
          "model_module_version": "1.2.0",
          "model_name": "LayoutModel",
          "state": {
            "_model_module": "@jupyter-widgets/base",
            "_model_module_version": "1.2.0",
            "_model_name": "LayoutModel",
            "_view_count": null,
            "_view_module": "@jupyter-widgets/base",
            "_view_module_version": "1.2.0",
            "_view_name": "LayoutView",
            "align_content": null,
            "align_items": null,
            "align_self": null,
            "border": null,
            "bottom": null,
            "display": null,
            "flex": null,
            "flex_flow": null,
            "grid_area": null,
            "grid_auto_columns": null,
            "grid_auto_flow": null,
            "grid_auto_rows": null,
            "grid_column": null,
            "grid_gap": null,
            "grid_row": null,
            "grid_template_areas": null,
            "grid_template_columns": null,
            "grid_template_rows": null,
            "height": null,
            "justify_content": null,
            "justify_items": null,
            "left": null,
            "margin": null,
            "max_height": null,
            "max_width": null,
            "min_height": null,
            "min_width": null,
            "object_fit": null,
            "object_position": null,
            "order": null,
            "overflow": null,
            "overflow_x": null,
            "overflow_y": null,
            "padding": null,
            "right": null,
            "top": null,
            "visibility": null,
            "width": null
          }
        },
        "572ef5592b9c43b0a85f2000912fe712": {
          "model_module": "@jupyter-widgets/controls",
          "model_module_version": "1.5.0",
          "model_name": "DescriptionStyleModel",
          "state": {
            "_model_module": "@jupyter-widgets/controls",
            "_model_module_version": "1.5.0",
            "_model_name": "DescriptionStyleModel",
            "_view_count": null,
            "_view_module": "@jupyter-widgets/base",
            "_view_module_version": "1.2.0",
            "_view_name": "StyleView",
            "description_width": ""
          }
        },
        "5a9eb2e10b9f4c10821be365b3ce60a9": {
          "model_module": "@jupyter-widgets/controls",
          "model_module_version": "1.5.0",
          "model_name": "HTMLModel",
          "state": {
            "_dom_classes": [],
            "_model_module": "@jupyter-widgets/controls",
            "_model_module_version": "1.5.0",
            "_model_name": "HTMLModel",
            "_view_count": null,
            "_view_module": "@jupyter-widgets/controls",
            "_view_module_version": "1.5.0",
            "_view_name": "HTMLView",
            "description": "",
            "description_tooltip": null,
            "layout": "IPY_MODEL_63cf602cb14944b593305a0425d64f68",
            "placeholder": "​",
            "style": "IPY_MODEL_9eb059b4f1024a44b0d70cc7ae6e7941",
            "value": "tokenizer_config.json: "
          }
        },
        "5cf0b3ebd8264a11b5f4374653ece341": {
          "model_module": "@jupyter-widgets/base",
          "model_module_version": "1.2.0",
          "model_name": "LayoutModel",
          "state": {
            "_model_module": "@jupyter-widgets/base",
            "_model_module_version": "1.2.0",
            "_model_name": "LayoutModel",
            "_view_count": null,
            "_view_module": "@jupyter-widgets/base",
            "_view_module_version": "1.2.0",
            "_view_name": "LayoutView",
            "align_content": null,
            "align_items": null,
            "align_self": null,
            "border": null,
            "bottom": null,
            "display": null,
            "flex": null,
            "flex_flow": null,
            "grid_area": null,
            "grid_auto_columns": null,
            "grid_auto_flow": null,
            "grid_auto_rows": null,
            "grid_column": null,
            "grid_gap": null,
            "grid_row": null,
            "grid_template_areas": null,
            "grid_template_columns": null,
            "grid_template_rows": null,
            "height": null,
            "justify_content": null,
            "justify_items": null,
            "left": null,
            "margin": null,
            "max_height": null,
            "max_width": null,
            "min_height": null,
            "min_width": null,
            "object_fit": null,
            "object_position": null,
            "order": null,
            "overflow": null,
            "overflow_x": null,
            "overflow_y": null,
            "padding": null,
            "right": null,
            "top": null,
            "visibility": null,
            "width": "20px"
          }
        },
        "5e84f0bb439849f79ef582e61f1f64a8": {
          "model_module": "@jupyter-widgets/base",
          "model_module_version": "1.2.0",
          "model_name": "LayoutModel",
          "state": {
            "_model_module": "@jupyter-widgets/base",
            "_model_module_version": "1.2.0",
            "_model_name": "LayoutModel",
            "_view_count": null,
            "_view_module": "@jupyter-widgets/base",
            "_view_module_version": "1.2.0",
            "_view_name": "LayoutView",
            "align_content": null,
            "align_items": null,
            "align_self": null,
            "border": null,
            "bottom": null,
            "display": null,
            "flex": null,
            "flex_flow": null,
            "grid_area": null,
            "grid_auto_columns": null,
            "grid_auto_flow": null,
            "grid_auto_rows": null,
            "grid_column": null,
            "grid_gap": null,
            "grid_row": null,
            "grid_template_areas": null,
            "grid_template_columns": null,
            "grid_template_rows": null,
            "height": null,
            "justify_content": null,
            "justify_items": null,
            "left": null,
            "margin": null,
            "max_height": null,
            "max_width": null,
            "min_height": null,
            "min_width": null,
            "object_fit": null,
            "object_position": null,
            "order": null,
            "overflow": null,
            "overflow_x": null,
            "overflow_y": null,
            "padding": null,
            "right": null,
            "top": null,
            "visibility": null,
            "width": "20px"
          }
        },
        "5ec28060a2b0415f973a2991bf95812b": {
          "model_module": "@jupyter-widgets/base",
          "model_module_version": "1.2.0",
          "model_name": "LayoutModel",
          "state": {
            "_model_module": "@jupyter-widgets/base",
            "_model_module_version": "1.2.0",
            "_model_name": "LayoutModel",
            "_view_count": null,
            "_view_module": "@jupyter-widgets/base",
            "_view_module_version": "1.2.0",
            "_view_name": "LayoutView",
            "align_content": null,
            "align_items": null,
            "align_self": null,
            "border": null,
            "bottom": null,
            "display": null,
            "flex": null,
            "flex_flow": null,
            "grid_area": null,
            "grid_auto_columns": null,
            "grid_auto_flow": null,
            "grid_auto_rows": null,
            "grid_column": null,
            "grid_gap": null,
            "grid_row": null,
            "grid_template_areas": null,
            "grid_template_columns": null,
            "grid_template_rows": null,
            "height": null,
            "justify_content": null,
            "justify_items": null,
            "left": null,
            "margin": null,
            "max_height": null,
            "max_width": null,
            "min_height": null,
            "min_width": null,
            "object_fit": null,
            "object_position": null,
            "order": null,
            "overflow": null,
            "overflow_x": null,
            "overflow_y": null,
            "padding": null,
            "right": null,
            "top": null,
            "visibility": null,
            "width": null
          }
        },
        "5f79dd60d868485ca0005d1bc8b30eea": {
          "model_module": "@jupyter-widgets/controls",
          "model_module_version": "1.5.0",
          "model_name": "ProgressStyleModel",
          "state": {
            "_model_module": "@jupyter-widgets/controls",
            "_model_module_version": "1.5.0",
            "_model_name": "ProgressStyleModel",
            "_view_count": null,
            "_view_module": "@jupyter-widgets/base",
            "_view_module_version": "1.2.0",
            "_view_name": "StyleView",
            "bar_color": null,
            "description_width": ""
          }
        },
        "63636e3024994df796011267da7e664e": {
          "model_module": "@jupyter-widgets/controls",
          "model_module_version": "1.5.0",
          "model_name": "HBoxModel",
          "state": {
            "_dom_classes": [],
            "_model_module": "@jupyter-widgets/controls",
            "_model_module_version": "1.5.0",
            "_model_name": "HBoxModel",
            "_view_count": null,
            "_view_module": "@jupyter-widgets/controls",
            "_view_module_version": "1.5.0",
            "_view_name": "HBoxView",
            "box_style": "",
            "children": [
              "IPY_MODEL_dbaf63fc33824e9cbe8f154dbeefc96d",
              "IPY_MODEL_92fd4df6cb1b481c9c009f8c39655598",
              "IPY_MODEL_d719b1dc5e4c4f0aa7b3f1d5d10e6f13"
            ],
            "layout": "IPY_MODEL_2d073337fda548a2bd21fd8e9781a251"
          }
        },
        "63cf602cb14944b593305a0425d64f68": {
          "model_module": "@jupyter-widgets/base",
          "model_module_version": "1.2.0",
          "model_name": "LayoutModel",
          "state": {
            "_model_module": "@jupyter-widgets/base",
            "_model_module_version": "1.2.0",
            "_model_name": "LayoutModel",
            "_view_count": null,
            "_view_module": "@jupyter-widgets/base",
            "_view_module_version": "1.2.0",
            "_view_name": "LayoutView",
            "align_content": null,
            "align_items": null,
            "align_self": null,
            "border": null,
            "bottom": null,
            "display": null,
            "flex": null,
            "flex_flow": null,
            "grid_area": null,
            "grid_auto_columns": null,
            "grid_auto_flow": null,
            "grid_auto_rows": null,
            "grid_column": null,
            "grid_gap": null,
            "grid_row": null,
            "grid_template_areas": null,
            "grid_template_columns": null,
            "grid_template_rows": null,
            "height": null,
            "justify_content": null,
            "justify_items": null,
            "left": null,
            "margin": null,
            "max_height": null,
            "max_width": null,
            "min_height": null,
            "min_width": null,
            "object_fit": null,
            "object_position": null,
            "order": null,
            "overflow": null,
            "overflow_x": null,
            "overflow_y": null,
            "padding": null,
            "right": null,
            "top": null,
            "visibility": null,
            "width": null
          }
        },
        "64f41e335ea94841aa8058146f6ca278": {
          "model_module": "@jupyter-widgets/base",
          "model_module_version": "1.2.0",
          "model_name": "LayoutModel",
          "state": {
            "_model_module": "@jupyter-widgets/base",
            "_model_module_version": "1.2.0",
            "_model_name": "LayoutModel",
            "_view_count": null,
            "_view_module": "@jupyter-widgets/base",
            "_view_module_version": "1.2.0",
            "_view_name": "LayoutView",
            "align_content": null,
            "align_items": null,
            "align_self": null,
            "border": null,
            "bottom": null,
            "display": null,
            "flex": null,
            "flex_flow": null,
            "grid_area": null,
            "grid_auto_columns": null,
            "grid_auto_flow": null,
            "grid_auto_rows": null,
            "grid_column": null,
            "grid_gap": null,
            "grid_row": null,
            "grid_template_areas": null,
            "grid_template_columns": null,
            "grid_template_rows": null,
            "height": null,
            "justify_content": null,
            "justify_items": null,
            "left": null,
            "margin": null,
            "max_height": null,
            "max_width": null,
            "min_height": null,
            "min_width": null,
            "object_fit": null,
            "object_position": null,
            "order": null,
            "overflow": null,
            "overflow_x": null,
            "overflow_y": null,
            "padding": null,
            "right": null,
            "top": null,
            "visibility": null,
            "width": null
          }
        },
        "657eaab8a8f84a05a87cba2cac76f1f6": {
          "model_module": "@jupyter-widgets/controls",
          "model_module_version": "1.5.0",
          "model_name": "DescriptionStyleModel",
          "state": {
            "_model_module": "@jupyter-widgets/controls",
            "_model_module_version": "1.5.0",
            "_model_name": "DescriptionStyleModel",
            "_view_count": null,
            "_view_module": "@jupyter-widgets/base",
            "_view_module_version": "1.2.0",
            "_view_name": "StyleView",
            "description_width": ""
          }
        },
        "665474a6afc74501949f63eeb8f9f56b": {
          "model_module": "@jupyter-widgets/base",
          "model_module_version": "1.2.0",
          "model_name": "LayoutModel",
          "state": {
            "_model_module": "@jupyter-widgets/base",
            "_model_module_version": "1.2.0",
            "_model_name": "LayoutModel",
            "_view_count": null,
            "_view_module": "@jupyter-widgets/base",
            "_view_module_version": "1.2.0",
            "_view_name": "LayoutView",
            "align_content": null,
            "align_items": null,
            "align_self": null,
            "border": null,
            "bottom": null,
            "display": null,
            "flex": null,
            "flex_flow": null,
            "grid_area": null,
            "grid_auto_columns": null,
            "grid_auto_flow": null,
            "grid_auto_rows": null,
            "grid_column": null,
            "grid_gap": null,
            "grid_row": null,
            "grid_template_areas": null,
            "grid_template_columns": null,
            "grid_template_rows": null,
            "height": null,
            "justify_content": null,
            "justify_items": null,
            "left": null,
            "margin": null,
            "max_height": null,
            "max_width": null,
            "min_height": null,
            "min_width": null,
            "object_fit": null,
            "object_position": null,
            "order": null,
            "overflow": null,
            "overflow_x": null,
            "overflow_y": null,
            "padding": null,
            "right": null,
            "top": null,
            "visibility": null,
            "width": null
          }
        },
        "68ecf207e9324451a33ef3c0b5b7fff4": {
          "model_module": "@jupyter-widgets/controls",
          "model_module_version": "1.5.0",
          "model_name": "FloatProgressModel",
          "state": {
            "_dom_classes": [],
            "_model_module": "@jupyter-widgets/controls",
            "_model_module_version": "1.5.0",
            "_model_name": "FloatProgressModel",
            "_view_count": null,
            "_view_module": "@jupyter-widgets/controls",
            "_view_module_version": "1.5.0",
            "_view_name": "ProgressView",
            "bar_style": "success",
            "description": "",
            "description_tooltip": null,
            "layout": "IPY_MODEL_5cf0b3ebd8264a11b5f4374653ece341",
            "max": 1,
            "min": 0,
            "orientation": "horizontal",
            "style": "IPY_MODEL_cfaf4849fdad405082ad9db088839dfc",
            "value": 1
          }
        },
        "690414258ad1451890f40b5f8340018e": {
          "model_module": "@jupyter-widgets/controls",
          "model_module_version": "1.5.0",
          "model_name": "HBoxModel",
          "state": {
            "_dom_classes": [],
            "_model_module": "@jupyter-widgets/controls",
            "_model_module_version": "1.5.0",
            "_model_name": "HBoxModel",
            "_view_count": null,
            "_view_module": "@jupyter-widgets/controls",
            "_view_module_version": "1.5.0",
            "_view_name": "HBoxView",
            "box_style": "",
            "children": [
              "IPY_MODEL_f7d338181bb043caad93ad5e5702927f",
              "IPY_MODEL_e260db980a9848ec98bca7730632a2ca",
              "IPY_MODEL_d74f8a0d818b4e04a081d93ae4281604"
            ],
            "layout": "IPY_MODEL_d406ce9a428e4ec5bd1f841583fc67fe"
          }
        },
        "691af746af37492b9d0ef49773dcaddb": {
          "model_module": "@jupyter-widgets/controls",
          "model_module_version": "1.5.0",
          "model_name": "DescriptionStyleModel",
          "state": {
            "_model_module": "@jupyter-widgets/controls",
            "_model_module_version": "1.5.0",
            "_model_name": "DescriptionStyleModel",
            "_view_count": null,
            "_view_module": "@jupyter-widgets/base",
            "_view_module_version": "1.2.0",
            "_view_name": "StyleView",
            "description_width": ""
          }
        },
        "6adf4a6cd28c43a39bf4d5cd65ffd07c": {
          "model_module": "@jupyter-widgets/controls",
          "model_module_version": "1.5.0",
          "model_name": "PasswordModel",
          "state": {
            "_dom_classes": [],
            "_model_module": "@jupyter-widgets/controls",
            "_model_module_version": "1.5.0",
            "_model_name": "PasswordModel",
            "_view_count": null,
            "_view_module": "@jupyter-widgets/controls",
            "_view_module_version": "1.5.0",
            "_view_name": "PasswordView",
            "continuous_update": true,
            "description": "Token:",
            "description_tooltip": null,
            "disabled": false,
            "layout": "IPY_MODEL_3e445507994d4cfbb6674963259193fb",
            "placeholder": "​",
            "style": "IPY_MODEL_12852df6030946968d300c6bb02013db",
            "value": ""
          }
        },
        "6d02464e5b644148b79068ff9476f171": {
          "model_module": "@jupyter-widgets/controls",
          "model_module_version": "1.5.0",
          "model_name": "FloatProgressModel",
          "state": {
            "_dom_classes": [],
            "_model_module": "@jupyter-widgets/controls",
            "_model_module_version": "1.5.0",
            "_model_name": "FloatProgressModel",
            "_view_count": null,
            "_view_module": "@jupyter-widgets/controls",
            "_view_module_version": "1.5.0",
            "_view_name": "ProgressView",
            "bar_style": "success",
            "description": "",
            "description_tooltip": null,
            "layout": "IPY_MODEL_a8d7315b919546ba928380a1205e9a8c",
            "max": 162,
            "min": 0,
            "orientation": "horizontal",
            "style": "IPY_MODEL_73334cc08b39457ab31f5b8a29c87c4f",
            "value": 162
          }
        },
        "73334cc08b39457ab31f5b8a29c87c4f": {
          "model_module": "@jupyter-widgets/controls",
          "model_module_version": "1.5.0",
          "model_name": "ProgressStyleModel",
          "state": {
            "_model_module": "@jupyter-widgets/controls",
            "_model_module_version": "1.5.0",
            "_model_name": "ProgressStyleModel",
            "_view_count": null,
            "_view_module": "@jupyter-widgets/base",
            "_view_module_version": "1.2.0",
            "_view_name": "StyleView",
            "bar_color": null,
            "description_width": ""
          }
        },
        "76eda070ba25445dbfbf7fabc94cbae5": {
          "model_module": "@jupyter-widgets/controls",
          "model_module_version": "1.5.0",
          "model_name": "DescriptionStyleModel",
          "state": {
            "_model_module": "@jupyter-widgets/controls",
            "_model_module_version": "1.5.0",
            "_model_name": "DescriptionStyleModel",
            "_view_count": null,
            "_view_module": "@jupyter-widgets/base",
            "_view_module_version": "1.2.0",
            "_view_name": "StyleView",
            "description_width": ""
          }
        },
        "772d95771e334156b2d3e99adcd4c0a6": {
          "model_module": "@jupyter-widgets/base",
          "model_module_version": "1.2.0",
          "model_name": "LayoutModel",
          "state": {
            "_model_module": "@jupyter-widgets/base",
            "_model_module_version": "1.2.0",
            "_model_name": "LayoutModel",
            "_view_count": null,
            "_view_module": "@jupyter-widgets/base",
            "_view_module_version": "1.2.0",
            "_view_name": "LayoutView",
            "align_content": null,
            "align_items": null,
            "align_self": null,
            "border": null,
            "bottom": null,
            "display": null,
            "flex": null,
            "flex_flow": null,
            "grid_area": null,
            "grid_auto_columns": null,
            "grid_auto_flow": null,
            "grid_auto_rows": null,
            "grid_column": null,
            "grid_gap": null,
            "grid_row": null,
            "grid_template_areas": null,
            "grid_template_columns": null,
            "grid_template_rows": null,
            "height": null,
            "justify_content": null,
            "justify_items": null,
            "left": null,
            "margin": null,
            "max_height": null,
            "max_width": null,
            "min_height": null,
            "min_width": null,
            "object_fit": null,
            "object_position": null,
            "order": null,
            "overflow": null,
            "overflow_x": null,
            "overflow_y": null,
            "padding": null,
            "right": null,
            "top": null,
            "visibility": null,
            "width": null
          }
        },
        "7734d261c0fa40268b5713c75097cb58": {
          "model_module": "@jupyter-widgets/controls",
          "model_module_version": "1.5.0",
          "model_name": "CheckboxModel",
          "state": {
            "_dom_classes": [],
            "_model_module": "@jupyter-widgets/controls",
            "_model_module_version": "1.5.0",
            "_model_name": "CheckboxModel",
            "_view_count": null,
            "_view_module": "@jupyter-widgets/controls",
            "_view_module_version": "1.5.0",
            "_view_name": "CheckboxView",
            "description": "Add token as git credential?",
            "description_tooltip": null,
            "disabled": false,
            "indent": true,
            "layout": "IPY_MODEL_191ec12e11a74a158c19007a847d6324",
            "style": "IPY_MODEL_9c268ee0b6f84502a811a32ff050d0d6",
            "value": true
          }
        },
        "779eb02fb5a340f2a9bea25c166925f3": {
          "model_module": "@jupyter-widgets/controls",
          "model_module_version": "1.5.0",
          "model_name": "DescriptionStyleModel",
          "state": {
            "_model_module": "@jupyter-widgets/controls",
            "_model_module_version": "1.5.0",
            "_model_name": "DescriptionStyleModel",
            "_view_count": null,
            "_view_module": "@jupyter-widgets/base",
            "_view_module_version": "1.2.0",
            "_view_name": "StyleView",
            "description_width": ""
          }
        },
        "77b9cce4abcb40198b7a1eb998ec2e03": {
          "model_module": "@jupyter-widgets/controls",
          "model_module_version": "1.5.0",
          "model_name": "HTMLModel",
          "state": {
            "_dom_classes": [],
            "_model_module": "@jupyter-widgets/controls",
            "_model_module_version": "1.5.0",
            "_model_name": "HTMLModel",
            "_view_count": null,
            "_view_module": "@jupyter-widgets/controls",
            "_view_module_version": "1.5.0",
            "_view_name": "HTMLView",
            "description": "",
            "description_tooltip": null,
            "layout": "IPY_MODEL_772d95771e334156b2d3e99adcd4c0a6",
            "placeholder": "​",
            "style": "IPY_MODEL_2d18b30447c74cc3928b9f949a3147a7",
            "value": " 162/162 [00:00&lt;00:00, 40.98it/s]"
          }
        },
        "7c652a3a1e8e4e28b31e5fe5933747f2": {
          "model_module": "@jupyter-widgets/controls",
          "model_module_version": "1.5.0",
          "model_name": "HTMLModel",
          "state": {
            "_dom_classes": [],
            "_model_module": "@jupyter-widgets/controls",
            "_model_module_version": "1.5.0",
            "_model_name": "HTMLModel",
            "_view_count": null,
            "_view_module": "@jupyter-widgets/controls",
            "_view_module_version": "1.5.0",
            "_view_name": "HTMLView",
            "description": "",
            "description_tooltip": null,
            "layout": "IPY_MODEL_5643ceac677e4be18c9c896741d24743",
            "placeholder": "​",
            "style": "IPY_MODEL_911692cf5fbd4015bcbb74d18bdf282a",
            "value": " 1.36M/? [00:00&lt;00:00, 11.0MB/s]"
          }
        },
        "7d5b2684751a4a6e97cb90f2cc3e61b9": {
          "model_module": "@jupyter-widgets/base",
          "model_module_version": "1.2.0",
          "model_name": "LayoutModel",
          "state": {
            "_model_module": "@jupyter-widgets/base",
            "_model_module_version": "1.2.0",
            "_model_name": "LayoutModel",
            "_view_count": null,
            "_view_module": "@jupyter-widgets/base",
            "_view_module_version": "1.2.0",
            "_view_name": "LayoutView",
            "align_content": null,
            "align_items": null,
            "align_self": null,
            "border": null,
            "bottom": null,
            "display": null,
            "flex": null,
            "flex_flow": null,
            "grid_area": null,
            "grid_auto_columns": null,
            "grid_auto_flow": null,
            "grid_auto_rows": null,
            "grid_column": null,
            "grid_gap": null,
            "grid_row": null,
            "grid_template_areas": null,
            "grid_template_columns": null,
            "grid_template_rows": null,
            "height": null,
            "justify_content": null,
            "justify_items": null,
            "left": null,
            "margin": null,
            "max_height": null,
            "max_width": null,
            "min_height": null,
            "min_width": null,
            "object_fit": null,
            "object_position": null,
            "order": null,
            "overflow": null,
            "overflow_x": null,
            "overflow_y": null,
            "padding": null,
            "right": null,
            "top": null,
            "visibility": null,
            "width": null
          }
        },
        "7e504a7d029c4a5eab89c0fa99ab84f8": {
          "model_module": "@jupyter-widgets/base",
          "model_module_version": "1.2.0",
          "model_name": "LayoutModel",
          "state": {
            "_model_module": "@jupyter-widgets/base",
            "_model_module_version": "1.2.0",
            "_model_name": "LayoutModel",
            "_view_count": null,
            "_view_module": "@jupyter-widgets/base",
            "_view_module_version": "1.2.0",
            "_view_name": "LayoutView",
            "align_content": null,
            "align_items": null,
            "align_self": null,
            "border": null,
            "bottom": null,
            "display": null,
            "flex": null,
            "flex_flow": null,
            "grid_area": null,
            "grid_auto_columns": null,
            "grid_auto_flow": null,
            "grid_auto_rows": null,
            "grid_column": null,
            "grid_gap": null,
            "grid_row": null,
            "grid_template_areas": null,
            "grid_template_columns": null,
            "grid_template_rows": null,
            "height": null,
            "justify_content": null,
            "justify_items": null,
            "left": null,
            "margin": null,
            "max_height": null,
            "max_width": null,
            "min_height": null,
            "min_width": null,
            "object_fit": null,
            "object_position": null,
            "order": null,
            "overflow": null,
            "overflow_x": null,
            "overflow_y": null,
            "padding": null,
            "right": null,
            "top": null,
            "visibility": null,
            "width": null
          }
        },
        "81a438b2dc8b4ab8a1e2c88a6ee5c54e": {
          "model_module": "@jupyter-widgets/controls",
          "model_module_version": "1.5.0",
          "model_name": "HBoxModel",
          "state": {
            "_dom_classes": [],
            "_model_module": "@jupyter-widgets/controls",
            "_model_module_version": "1.5.0",
            "_model_name": "HBoxModel",
            "_view_count": null,
            "_view_module": "@jupyter-widgets/controls",
            "_view_module_version": "1.5.0",
            "_view_name": "HBoxView",
            "box_style": "",
            "children": [
              "IPY_MODEL_96a9df56374f46c8b70f18fdfd9de1eb",
              "IPY_MODEL_a4c3b490232744e79a682a20a0c03976",
              "IPY_MODEL_199ce825f3154a258ce671cce9ec1a43"
            ],
            "layout": "IPY_MODEL_b4eeec8ba7894925a9d86b30183634f7"
          }
        },
        "82a332bd677c49ca9499ebdd99467585": {
          "model_module": "@jupyter-widgets/controls",
          "model_module_version": "1.5.0",
          "model_name": "DescriptionStyleModel",
          "state": {
            "_model_module": "@jupyter-widgets/controls",
            "_model_module_version": "1.5.0",
            "_model_name": "DescriptionStyleModel",
            "_view_count": null,
            "_view_module": "@jupyter-widgets/base",
            "_view_module_version": "1.2.0",
            "_view_name": "StyleView",
            "description_width": ""
          }
        },
        "83b27c6410c649fe8c3dd396cd5eae38": {
          "model_module": "@jupyter-widgets/controls",
          "model_module_version": "1.5.0",
          "model_name": "HBoxModel",
          "state": {
            "_dom_classes": [],
            "_model_module": "@jupyter-widgets/controls",
            "_model_module_version": "1.5.0",
            "_model_name": "HBoxModel",
            "_view_count": null,
            "_view_module": "@jupyter-widgets/controls",
            "_view_module_version": "1.5.0",
            "_view_name": "HBoxView",
            "box_style": "",
            "children": [
              "IPY_MODEL_5a9eb2e10b9f4c10821be365b3ce60a9",
              "IPY_MODEL_45d234c65d764bcfb3e03071af3055df",
              "IPY_MODEL_b57fc02d1119453fbee862455cc160f9"
            ],
            "layout": "IPY_MODEL_5ec28060a2b0415f973a2991bf95812b"
          }
        },
        "8bc2d8a78b184d36aaafa973b24d1b66": {
          "model_module": "@jupyter-widgets/controls",
          "model_module_version": "1.5.0",
          "model_name": "HTMLModel",
          "state": {
            "_dom_classes": [],
            "_model_module": "@jupyter-widgets/controls",
            "_model_module_version": "1.5.0",
            "_model_name": "HTMLModel",
            "_view_count": null,
            "_view_module": "@jupyter-widgets/controls",
            "_view_module_version": "1.5.0",
            "_view_name": "HTMLView",
            "description": "",
            "description_tooltip": null,
            "layout": "IPY_MODEL_cadeda76ab8e4b69b3f5ab4a2447b77d",
            "placeholder": "​",
            "style": "IPY_MODEL_0216c4bf1e7042e198b7b174c80578eb",
            "value": "Resolving data files: 100%"
          }
        },
        "8dbf09f25442424aaac929c8977ea84d": {
          "model_module": "@jupyter-widgets/base",
          "model_module_version": "1.2.0",
          "model_name": "LayoutModel",
          "state": {
            "_model_module": "@jupyter-widgets/base",
            "_model_module_version": "1.2.0",
            "_model_name": "LayoutModel",
            "_view_count": null,
            "_view_module": "@jupyter-widgets/base",
            "_view_module_version": "1.2.0",
            "_view_name": "LayoutView",
            "align_content": null,
            "align_items": null,
            "align_self": null,
            "border": null,
            "bottom": null,
            "display": null,
            "flex": null,
            "flex_flow": null,
            "grid_area": null,
            "grid_auto_columns": null,
            "grid_auto_flow": null,
            "grid_auto_rows": null,
            "grid_column": null,
            "grid_gap": null,
            "grid_row": null,
            "grid_template_areas": null,
            "grid_template_columns": null,
            "grid_template_rows": null,
            "height": null,
            "justify_content": null,
            "justify_items": null,
            "left": null,
            "margin": null,
            "max_height": null,
            "max_width": null,
            "min_height": null,
            "min_width": null,
            "object_fit": null,
            "object_position": null,
            "order": null,
            "overflow": null,
            "overflow_x": null,
            "overflow_y": null,
            "padding": null,
            "right": null,
            "top": null,
            "visibility": null,
            "width": null
          }
        },
        "8fe0516e85df499e923923d3ad05c4f9": {
          "model_module": "@jupyter-widgets/controls",
          "model_module_version": "1.5.0",
          "model_name": "HBoxModel",
          "state": {
            "_dom_classes": [],
            "_model_module": "@jupyter-widgets/controls",
            "_model_module_version": "1.5.0",
            "_model_name": "HBoxModel",
            "_view_count": null,
            "_view_module": "@jupyter-widgets/controls",
            "_view_module_version": "1.5.0",
            "_view_name": "HBoxView",
            "box_style": "",
            "children": [
              "IPY_MODEL_35ec2dfd5e5c4e7180f10e42b8ee8af9",
              "IPY_MODEL_6d02464e5b644148b79068ff9476f171",
              "IPY_MODEL_462a10dd2896476fb697a86f9dd6df1f"
            ],
            "layout": "IPY_MODEL_665474a6afc74501949f63eeb8f9f56b"
          }
        },
        "911692cf5fbd4015bcbb74d18bdf282a": {
          "model_module": "@jupyter-widgets/controls",
          "model_module_version": "1.5.0",
          "model_name": "DescriptionStyleModel",
          "state": {
            "_model_module": "@jupyter-widgets/controls",
            "_model_module_version": "1.5.0",
            "_model_name": "DescriptionStyleModel",
            "_view_count": null,
            "_view_module": "@jupyter-widgets/base",
            "_view_module_version": "1.2.0",
            "_view_name": "StyleView",
            "description_width": ""
          }
        },
        "92c9ab48501f47eaa21f993140605610": {
          "model_module": "@jupyter-widgets/controls",
          "model_module_version": "1.5.0",
          "model_name": "ProgressStyleModel",
          "state": {
            "_model_module": "@jupyter-widgets/controls",
            "_model_module_version": "1.5.0",
            "_model_name": "ProgressStyleModel",
            "_view_count": null,
            "_view_module": "@jupyter-widgets/base",
            "_view_module_version": "1.2.0",
            "_view_name": "StyleView",
            "bar_color": null,
            "description_width": ""
          }
        },
        "92fd4df6cb1b481c9c009f8c39655598": {
          "model_module": "@jupyter-widgets/controls",
          "model_module_version": "1.5.0",
          "model_name": "FloatProgressModel",
          "state": {
            "_dom_classes": [],
            "_model_module": "@jupyter-widgets/controls",
            "_model_module_version": "1.5.0",
            "_model_name": "FloatProgressModel",
            "_view_count": null,
            "_view_module": "@jupyter-widgets/controls",
            "_view_module_version": "1.5.0",
            "_view_name": "ProgressView",
            "bar_style": "success",
            "description": "",
            "description_tooltip": null,
            "layout": "IPY_MODEL_64f41e335ea94841aa8058146f6ca278",
            "max": 162,
            "min": 0,
            "orientation": "horizontal",
            "style": "IPY_MODEL_1a365c1b6bd14388aecebf45c6b7bba3",
            "value": 162
          }
        },
        "96a9df56374f46c8b70f18fdfd9de1eb": {
          "model_module": "@jupyter-widgets/controls",
          "model_module_version": "1.5.0",
          "model_name": "HTMLModel",
          "state": {
            "_dom_classes": [],
            "_model_module": "@jupyter-widgets/controls",
            "_model_module_version": "1.5.0",
            "_model_name": "HTMLModel",
            "_view_count": null,
            "_view_module": "@jupyter-widgets/controls",
            "_view_module_version": "1.5.0",
            "_view_name": "HTMLView",
            "description": "",
            "description_tooltip": null,
            "layout": "IPY_MODEL_d3a5cee7004a4972ba66a4321388850f",
            "placeholder": "​",
            "style": "IPY_MODEL_779eb02fb5a340f2a9bea25c166925f3",
            "value": "Generating test split: 100%"
          }
        },
        "9c268ee0b6f84502a811a32ff050d0d6": {
          "model_module": "@jupyter-widgets/controls",
          "model_module_version": "1.5.0",
          "model_name": "DescriptionStyleModel",
          "state": {
            "_model_module": "@jupyter-widgets/controls",
            "_model_module_version": "1.5.0",
            "_model_name": "DescriptionStyleModel",
            "_view_count": null,
            "_view_module": "@jupyter-widgets/base",
            "_view_module_version": "1.2.0",
            "_view_name": "StyleView",
            "description_width": ""
          }
        },
        "9eb059b4f1024a44b0d70cc7ae6e7941": {
          "model_module": "@jupyter-widgets/controls",
          "model_module_version": "1.5.0",
          "model_name": "DescriptionStyleModel",
          "state": {
            "_model_module": "@jupyter-widgets/controls",
            "_model_module_version": "1.5.0",
            "_model_name": "DescriptionStyleModel",
            "_view_count": null,
            "_view_module": "@jupyter-widgets/base",
            "_view_module_version": "1.2.0",
            "_view_name": "StyleView",
            "description_width": ""
          }
        },
        "a043346687834c76acc8a284949852ab": {
          "model_module": "@jupyter-widgets/controls",
          "model_module_version": "1.5.0",
          "model_name": "HTMLModel",
          "state": {
            "_dom_classes": [],
            "_model_module": "@jupyter-widgets/controls",
            "_model_module_version": "1.5.0",
            "_model_name": "HTMLModel",
            "_view_count": null,
            "_view_module": "@jupyter-widgets/controls",
            "_view_module_version": "1.5.0",
            "_view_name": "HTMLView",
            "description": "",
            "description_tooltip": null,
            "layout": "IPY_MODEL_35a1c30059a148a9809a1b81a9784a33",
            "placeholder": "​",
            "style": "IPY_MODEL_2d527e60d2a140fea3d21bcbf469e2f3",
            "value": "\n<b>Pro Tip:</b> If you don't already have one, you can create a dedicated\n'notebooks' token with 'write' access, that you can then easily reuse for all\nnotebooks. </center>"
          }
        },
        "a170fe8d66e74f13a9de5070e68747c1": {
          "model_module": "@jupyter-widgets/base",
          "model_module_version": "1.2.0",
          "model_name": "LayoutModel",
          "state": {
            "_model_module": "@jupyter-widgets/base",
            "_model_module_version": "1.2.0",
            "_model_name": "LayoutModel",
            "_view_count": null,
            "_view_module": "@jupyter-widgets/base",
            "_view_module_version": "1.2.0",
            "_view_name": "LayoutView",
            "align_content": null,
            "align_items": null,
            "align_self": null,
            "border": null,
            "bottom": null,
            "display": null,
            "flex": null,
            "flex_flow": null,
            "grid_area": null,
            "grid_auto_columns": null,
            "grid_auto_flow": null,
            "grid_auto_rows": null,
            "grid_column": null,
            "grid_gap": null,
            "grid_row": null,
            "grid_template_areas": null,
            "grid_template_columns": null,
            "grid_template_rows": null,
            "height": null,
            "justify_content": null,
            "justify_items": null,
            "left": null,
            "margin": null,
            "max_height": null,
            "max_width": null,
            "min_height": null,
            "min_width": null,
            "object_fit": null,
            "object_position": null,
            "order": null,
            "overflow": null,
            "overflow_x": null,
            "overflow_y": null,
            "padding": null,
            "right": null,
            "top": null,
            "visibility": null,
            "width": null
          }
        },
        "a4c3b490232744e79a682a20a0c03976": {
          "model_module": "@jupyter-widgets/controls",
          "model_module_version": "1.5.0",
          "model_name": "FloatProgressModel",
          "state": {
            "_dom_classes": [],
            "_model_module": "@jupyter-widgets/controls",
            "_model_module_version": "1.5.0",
            "_model_name": "FloatProgressModel",
            "_view_count": null,
            "_view_module": "@jupyter-widgets/controls",
            "_view_module_version": "1.5.0",
            "_view_name": "ProgressView",
            "bar_style": "success",
            "description": "",
            "description_tooltip": null,
            "layout": "IPY_MODEL_b26d2b4e1b64414fac722f89693b3d20",
            "max": 30000,
            "min": 0,
            "orientation": "horizontal",
            "style": "IPY_MODEL_480b20bd58af4c0eb2cccbc7372e132c",
            "value": 30000
          }
        },
        "a58571ec88e2416fbf3badf01625e806": {
          "model_module": "@jupyter-widgets/controls",
          "model_module_version": "1.5.0",
          "model_name": "VBoxModel",
          "state": {
            "_dom_classes": [],
            "_model_module": "@jupyter-widgets/controls",
            "_model_module_version": "1.5.0",
            "_model_name": "VBoxModel",
            "_view_count": null,
            "_view_module": "@jupyter-widgets/controls",
            "_view_module_version": "1.5.0",
            "_view_name": "VBoxView",
            "box_style": "",
            "children": [],
            "layout": "IPY_MODEL_ff5e0cc26a3f41fabb4e163efcb577d3"
          }
        },
        "a72532a7cbd34ae6859bd6b5d14525f9": {
          "model_module": "@jupyter-widgets/base",
          "model_module_version": "1.2.0",
          "model_name": "LayoutModel",
          "state": {
            "_model_module": "@jupyter-widgets/base",
            "_model_module_version": "1.2.0",
            "_model_name": "LayoutModel",
            "_view_count": null,
            "_view_module": "@jupyter-widgets/base",
            "_view_module_version": "1.2.0",
            "_view_name": "LayoutView",
            "align_content": null,
            "align_items": null,
            "align_self": null,
            "border": null,
            "bottom": null,
            "display": null,
            "flex": null,
            "flex_flow": null,
            "grid_area": null,
            "grid_auto_columns": null,
            "grid_auto_flow": null,
            "grid_auto_rows": null,
            "grid_column": null,
            "grid_gap": null,
            "grid_row": null,
            "grid_template_areas": null,
            "grid_template_columns": null,
            "grid_template_rows": null,
            "height": null,
            "justify_content": null,
            "justify_items": null,
            "left": null,
            "margin": null,
            "max_height": null,
            "max_width": null,
            "min_height": null,
            "min_width": null,
            "object_fit": null,
            "object_position": null,
            "order": null,
            "overflow": null,
            "overflow_x": null,
            "overflow_y": null,
            "padding": null,
            "right": null,
            "top": null,
            "visibility": null,
            "width": null
          }
        },
        "a8d7315b919546ba928380a1205e9a8c": {
          "model_module": "@jupyter-widgets/base",
          "model_module_version": "1.2.0",
          "model_name": "LayoutModel",
          "state": {
            "_model_module": "@jupyter-widgets/base",
            "_model_module_version": "1.2.0",
            "_model_name": "LayoutModel",
            "_view_count": null,
            "_view_module": "@jupyter-widgets/base",
            "_view_module_version": "1.2.0",
            "_view_name": "LayoutView",
            "align_content": null,
            "align_items": null,
            "align_self": null,
            "border": null,
            "bottom": null,
            "display": null,
            "flex": null,
            "flex_flow": null,
            "grid_area": null,
            "grid_auto_columns": null,
            "grid_auto_flow": null,
            "grid_auto_rows": null,
            "grid_column": null,
            "grid_gap": null,
            "grid_row": null,
            "grid_template_areas": null,
            "grid_template_columns": null,
            "grid_template_rows": null,
            "height": null,
            "justify_content": null,
            "justify_items": null,
            "left": null,
            "margin": null,
            "max_height": null,
            "max_width": null,
            "min_height": null,
            "min_width": null,
            "object_fit": null,
            "object_position": null,
            "order": null,
            "overflow": null,
            "overflow_x": null,
            "overflow_y": null,
            "padding": null,
            "right": null,
            "top": null,
            "visibility": null,
            "width": null
          }
        },
        "a91c2475ef944de5a2fbcc3c82321284": {
          "model_module": "@jupyter-widgets/controls",
          "model_module_version": "1.5.0",
          "model_name": "HBoxModel",
          "state": {
            "_dom_classes": [],
            "_model_module": "@jupyter-widgets/controls",
            "_model_module_version": "1.5.0",
            "_model_name": "HBoxModel",
            "_view_count": null,
            "_view_module": "@jupyter-widgets/controls",
            "_view_module_version": "1.5.0",
            "_view_name": "HBoxView",
            "box_style": "",
            "children": [
              "IPY_MODEL_0bd064a4222345f9b2f71e3db56f48d7",
              "IPY_MODEL_cc1dc8fc08c44f469eb8d7c990cd9e5a",
              "IPY_MODEL_2eae7dbc2713484f9b44e0924b543831"
            ],
            "layout": "IPY_MODEL_341e7e71ceb542e0994ce629ac34dc8f"
          }
        },
        "a93f196f36014b43aca9c0f438995099": {
          "model_module": "@jupyter-widgets/controls",
          "model_module_version": "1.5.0",
          "model_name": "LabelModel",
          "state": {
            "_dom_classes": [],
            "_model_module": "@jupyter-widgets/controls",
            "_model_module_version": "1.5.0",
            "_model_name": "LabelModel",
            "_view_count": null,
            "_view_module": "@jupyter-widgets/controls",
            "_view_module_version": "1.5.0",
            "_view_name": "LabelView",
            "description": "",
            "description_tooltip": null,
            "layout": "IPY_MODEL_d617ca52ff5f47198a8d5625c0beaba4",
            "placeholder": "​",
            "style": "IPY_MODEL_572ef5592b9c43b0a85f2000912fe712",
            "value": "Connecting..."
          }
        },
        "aacead3a07114c4c9f9c0736dbb04392": {
          "model_module": "@jupyter-widgets/controls",
          "model_module_version": "1.5.0",
          "model_name": "FloatProgressModel",
          "state": {
            "_dom_classes": [],
            "_model_module": "@jupyter-widgets/controls",
            "_model_module_version": "1.5.0",
            "_model_name": "FloatProgressModel",
            "_view_count": null,
            "_view_module": "@jupyter-widgets/controls",
            "_view_module_version": "1.5.0",
            "_view_name": "ProgressView",
            "bar_style": "success",
            "description": "",
            "description_tooltip": null,
            "layout": "IPY_MODEL_edd40067c39a41da9b6584e0897bc76a",
            "max": 162,
            "min": 0,
            "orientation": "horizontal",
            "style": "IPY_MODEL_532be3b359014195a050dbfa26ba34f9",
            "value": 162
          }
        },
        "afc9d963415c4052a0a089619d8c0046": {
          "model_module": "@jupyter-widgets/controls",
          "model_module_version": "1.5.0",
          "model_name": "DescriptionStyleModel",
          "state": {
            "_model_module": "@jupyter-widgets/controls",
            "_model_module_version": "1.5.0",
            "_model_name": "DescriptionStyleModel",
            "_view_count": null,
            "_view_module": "@jupyter-widgets/base",
            "_view_module_version": "1.2.0",
            "_view_name": "StyleView",
            "description_width": ""
          }
        },
        "b18551296e95450dbb2fcbe0cc9146e9": {
          "model_module": "@jupyter-widgets/controls",
          "model_module_version": "1.5.0",
          "model_name": "HTMLModel",
          "state": {
            "_dom_classes": [],
            "_model_module": "@jupyter-widgets/controls",
            "_model_module_version": "1.5.0",
            "_model_name": "HTMLModel",
            "_view_count": null,
            "_view_module": "@jupyter-widgets/controls",
            "_view_module_version": "1.5.0",
            "_view_name": "HTMLView",
            "description": "",
            "description_tooltip": null,
            "layout": "IPY_MODEL_2aa80fb726624c7b8905c0a3d71004aa",
            "placeholder": "​",
            "style": "IPY_MODEL_4674caebe64a4bd4886eda3dd727c2bd",
            "value": "tokenizer.json: "
          }
        },
        "b26d2b4e1b64414fac722f89693b3d20": {
          "model_module": "@jupyter-widgets/base",
          "model_module_version": "1.2.0",
          "model_name": "LayoutModel",
          "state": {
            "_model_module": "@jupyter-widgets/base",
            "_model_module_version": "1.2.0",
            "_model_name": "LayoutModel",
            "_view_count": null,
            "_view_module": "@jupyter-widgets/base",
            "_view_module_version": "1.2.0",
            "_view_name": "LayoutView",
            "align_content": null,
            "align_items": null,
            "align_self": null,
            "border": null,
            "bottom": null,
            "display": null,
            "flex": null,
            "flex_flow": null,
            "grid_area": null,
            "grid_auto_columns": null,
            "grid_auto_flow": null,
            "grid_auto_rows": null,
            "grid_column": null,
            "grid_gap": null,
            "grid_row": null,
            "grid_template_areas": null,
            "grid_template_columns": null,
            "grid_template_rows": null,
            "height": null,
            "justify_content": null,
            "justify_items": null,
            "left": null,
            "margin": null,
            "max_height": null,
            "max_width": null,
            "min_height": null,
            "min_width": null,
            "object_fit": null,
            "object_position": null,
            "order": null,
            "overflow": null,
            "overflow_x": null,
            "overflow_y": null,
            "padding": null,
            "right": null,
            "top": null,
            "visibility": null,
            "width": null
          }
        },
        "b4eeec8ba7894925a9d86b30183634f7": {
          "model_module": "@jupyter-widgets/base",
          "model_module_version": "1.2.0",
          "model_name": "LayoutModel",
          "state": {
            "_model_module": "@jupyter-widgets/base",
            "_model_module_version": "1.2.0",
            "_model_name": "LayoutModel",
            "_view_count": null,
            "_view_module": "@jupyter-widgets/base",
            "_view_module_version": "1.2.0",
            "_view_name": "LayoutView",
            "align_content": null,
            "align_items": null,
            "align_self": null,
            "border": null,
            "bottom": null,
            "display": null,
            "flex": null,
            "flex_flow": null,
            "grid_area": null,
            "grid_auto_columns": null,
            "grid_auto_flow": null,
            "grid_auto_rows": null,
            "grid_column": null,
            "grid_gap": null,
            "grid_row": null,
            "grid_template_areas": null,
            "grid_template_columns": null,
            "grid_template_rows": null,
            "height": null,
            "justify_content": null,
            "justify_items": null,
            "left": null,
            "margin": null,
            "max_height": null,
            "max_width": null,
            "min_height": null,
            "min_width": null,
            "object_fit": null,
            "object_position": null,
            "order": null,
            "overflow": null,
            "overflow_x": null,
            "overflow_y": null,
            "padding": null,
            "right": null,
            "top": null,
            "visibility": null,
            "width": null
          }
        },
        "b57c952a42cb45adb553f87d459cfbfa": {
          "model_module": "@jupyter-widgets/controls",
          "model_module_version": "1.5.0",
          "model_name": "ButtonModel",
          "state": {
            "_dom_classes": [],
            "_model_module": "@jupyter-widgets/controls",
            "_model_module_version": "1.5.0",
            "_model_name": "ButtonModel",
            "_view_count": null,
            "_view_module": "@jupyter-widgets/controls",
            "_view_module_version": "1.5.0",
            "_view_name": "ButtonView",
            "button_style": "",
            "description": "Login",
            "disabled": false,
            "icon": "",
            "layout": "IPY_MODEL_f59546924162407d8a1130c6546aee2a",
            "style": "IPY_MODEL_33cfcd231ec74be79bf884362ca8e49c",
            "tooltip": ""
          }
        },
        "b57fc02d1119453fbee862455cc160f9": {
          "model_module": "@jupyter-widgets/controls",
          "model_module_version": "1.5.0",
          "model_name": "HTMLModel",
          "state": {
            "_dom_classes": [],
            "_model_module": "@jupyter-widgets/controls",
            "_model_module_version": "1.5.0",
            "_model_name": "HTMLModel",
            "_view_count": null,
            "_view_module": "@jupyter-widgets/controls",
            "_view_module_version": "1.5.0",
            "_view_name": "HTMLView",
            "description": "",
            "description_tooltip": null,
            "layout": "IPY_MODEL_8dbf09f25442424aaac929c8977ea84d",
            "placeholder": "​",
            "style": "IPY_MODEL_28553bf07cd34867b764f36137f990e3",
            "value": " 1.12k/? [00:00&lt;00:00, 81.1kB/s]"
          }
        },
        "ba9e3cecbf3841fcbeb4b97157db2454": {
          "model_module": "@jupyter-widgets/base",
          "model_module_version": "1.2.0",
          "model_name": "LayoutModel",
          "state": {
            "_model_module": "@jupyter-widgets/base",
            "_model_module_version": "1.2.0",
            "_model_name": "LayoutModel",
            "_view_count": null,
            "_view_module": "@jupyter-widgets/base",
            "_view_module_version": "1.2.0",
            "_view_name": "LayoutView",
            "align_content": null,
            "align_items": null,
            "align_self": null,
            "border": null,
            "bottom": null,
            "display": null,
            "flex": null,
            "flex_flow": null,
            "grid_area": null,
            "grid_auto_columns": null,
            "grid_auto_flow": null,
            "grid_auto_rows": null,
            "grid_column": null,
            "grid_gap": null,
            "grid_row": null,
            "grid_template_areas": null,
            "grid_template_columns": null,
            "grid_template_rows": null,
            "height": null,
            "justify_content": null,
            "justify_items": null,
            "left": null,
            "margin": null,
            "max_height": null,
            "max_width": null,
            "min_height": null,
            "min_width": null,
            "object_fit": null,
            "object_position": null,
            "order": null,
            "overflow": null,
            "overflow_x": null,
            "overflow_y": null,
            "padding": null,
            "right": null,
            "top": null,
            "visibility": null,
            "width": null
          }
        },
        "c368fb16ae93493cae2c8e536615cf50": {
          "model_module": "@jupyter-widgets/controls",
          "model_module_version": "1.5.0",
          "model_name": "HBoxModel",
          "state": {
            "_dom_classes": [],
            "_model_module": "@jupyter-widgets/controls",
            "_model_module_version": "1.5.0",
            "_model_name": "HBoxModel",
            "_view_count": null,
            "_view_module": "@jupyter-widgets/controls",
            "_view_module_version": "1.5.0",
            "_view_name": "HBoxView",
            "box_style": "",
            "children": [
              "IPY_MODEL_8bc2d8a78b184d36aaafa973b24d1b66",
              "IPY_MODEL_aacead3a07114c4c9f9c0736dbb04392",
              "IPY_MODEL_77b9cce4abcb40198b7a1eb998ec2e03"
            ],
            "layout": "IPY_MODEL_7d5b2684751a4a6e97cb90f2cc3e61b9"
          }
        },
        "cadeda76ab8e4b69b3f5ab4a2447b77d": {
          "model_module": "@jupyter-widgets/base",
          "model_module_version": "1.2.0",
          "model_name": "LayoutModel",
          "state": {
            "_model_module": "@jupyter-widgets/base",
            "_model_module_version": "1.2.0",
            "_model_name": "LayoutModel",
            "_view_count": null,
            "_view_module": "@jupyter-widgets/base",
            "_view_module_version": "1.2.0",
            "_view_name": "LayoutView",
            "align_content": null,
            "align_items": null,
            "align_self": null,
            "border": null,
            "bottom": null,
            "display": null,
            "flex": null,
            "flex_flow": null,
            "grid_area": null,
            "grid_auto_columns": null,
            "grid_auto_flow": null,
            "grid_auto_rows": null,
            "grid_column": null,
            "grid_gap": null,
            "grid_row": null,
            "grid_template_areas": null,
            "grid_template_columns": null,
            "grid_template_rows": null,
            "height": null,
            "justify_content": null,
            "justify_items": null,
            "left": null,
            "margin": null,
            "max_height": null,
            "max_width": null,
            "min_height": null,
            "min_width": null,
            "object_fit": null,
            "object_position": null,
            "order": null,
            "overflow": null,
            "overflow_x": null,
            "overflow_y": null,
            "padding": null,
            "right": null,
            "top": null,
            "visibility": null,
            "width": null
          }
        },
        "cba7331b9e9f41a1ad46d0802a0f8b81": {
          "model_module": "@jupyter-widgets/base",
          "model_module_version": "1.2.0",
          "model_name": "LayoutModel",
          "state": {
            "_model_module": "@jupyter-widgets/base",
            "_model_module_version": "1.2.0",
            "_model_name": "LayoutModel",
            "_view_count": null,
            "_view_module": "@jupyter-widgets/base",
            "_view_module_version": "1.2.0",
            "_view_name": "LayoutView",
            "align_content": null,
            "align_items": null,
            "align_self": null,
            "border": null,
            "bottom": null,
            "display": null,
            "flex": null,
            "flex_flow": null,
            "grid_area": null,
            "grid_auto_columns": null,
            "grid_auto_flow": null,
            "grid_auto_rows": null,
            "grid_column": null,
            "grid_gap": null,
            "grid_row": null,
            "grid_template_areas": null,
            "grid_template_columns": null,
            "grid_template_rows": null,
            "height": null,
            "justify_content": null,
            "justify_items": null,
            "left": null,
            "margin": null,
            "max_height": null,
            "max_width": null,
            "min_height": null,
            "min_width": null,
            "object_fit": null,
            "object_position": null,
            "order": null,
            "overflow": null,
            "overflow_x": null,
            "overflow_y": null,
            "padding": null,
            "right": null,
            "top": null,
            "visibility": null,
            "width": null
          }
        },
        "cc1dc8fc08c44f469eb8d7c990cd9e5a": {
          "model_module": "@jupyter-widgets/controls",
          "model_module_version": "1.5.0",
          "model_name": "FloatProgressModel",
          "state": {
            "_dom_classes": [],
            "_model_module": "@jupyter-widgets/controls",
            "_model_module_version": "1.5.0",
            "_model_name": "FloatProgressModel",
            "_view_count": null,
            "_view_module": "@jupyter-widgets/controls",
            "_view_module_version": "1.5.0",
            "_view_name": "ProgressView",
            "bar_style": "success",
            "description": "",
            "description_tooltip": null,
            "layout": "IPY_MODEL_f2d429a8629b4c49a734ae9b9b040d2e",
            "max": 552,
            "min": 0,
            "orientation": "horizontal",
            "style": "IPY_MODEL_e7587338648d44f28fc6971a65420fe2",
            "value": 552
          }
        },
        "cfaf4849fdad405082ad9db088839dfc": {
          "model_module": "@jupyter-widgets/controls",
          "model_module_version": "1.5.0",
          "model_name": "ProgressStyleModel",
          "state": {
            "_model_module": "@jupyter-widgets/controls",
            "_model_module_version": "1.5.0",
            "_model_name": "ProgressStyleModel",
            "_view_count": null,
            "_view_module": "@jupyter-widgets/base",
            "_view_module_version": "1.2.0",
            "_view_name": "StyleView",
            "bar_color": null,
            "description_width": ""
          }
        },
        "d38c3ee9354f44aa933b51ab50e57a78": {
          "model_module": "@jupyter-widgets/controls",
          "model_module_version": "1.5.0",
          "model_name": "HTMLModel",
          "state": {
            "_dom_classes": [],
            "_model_module": "@jupyter-widgets/controls",
            "_model_module_version": "1.5.0",
            "_model_name": "HTMLModel",
            "_view_count": null,
            "_view_module": "@jupyter-widgets/controls",
            "_view_module_version": "1.5.0",
            "_view_name": "HTMLView",
            "description": "",
            "description_tooltip": null,
            "layout": "IPY_MODEL_a170fe8d66e74f13a9de5070e68747c1",
            "placeholder": "​",
            "style": "IPY_MODEL_afc9d963415c4052a0a089619d8c0046",
            "value": "<center> <img\nsrc=https://huggingface.co/front/assets/huggingface_logo-noborder.svg\nalt='Hugging Face'> <br> Copy a token from <a\nhref=\"https://huggingface.co/settings/tokens\" target=\"_blank\">your Hugging Face\ntokens page</a> and paste it below. <br> Immediately click login after copying\nyour token or it might be stored in plain text in this notebook file. </center>"
          }
        },
        "d3a5cee7004a4972ba66a4321388850f": {
          "model_module": "@jupyter-widgets/base",
          "model_module_version": "1.2.0",
          "model_name": "LayoutModel",
          "state": {
            "_model_module": "@jupyter-widgets/base",
            "_model_module_version": "1.2.0",
            "_model_name": "LayoutModel",
            "_view_count": null,
            "_view_module": "@jupyter-widgets/base",
            "_view_module_version": "1.2.0",
            "_view_name": "LayoutView",
            "align_content": null,
            "align_items": null,
            "align_self": null,
            "border": null,
            "bottom": null,
            "display": null,
            "flex": null,
            "flex_flow": null,
            "grid_area": null,
            "grid_auto_columns": null,
            "grid_auto_flow": null,
            "grid_auto_rows": null,
            "grid_column": null,
            "grid_gap": null,
            "grid_row": null,
            "grid_template_areas": null,
            "grid_template_columns": null,
            "grid_template_rows": null,
            "height": null,
            "justify_content": null,
            "justify_items": null,
            "left": null,
            "margin": null,
            "max_height": null,
            "max_width": null,
            "min_height": null,
            "min_width": null,
            "object_fit": null,
            "object_position": null,
            "order": null,
            "overflow": null,
            "overflow_x": null,
            "overflow_y": null,
            "padding": null,
            "right": null,
            "top": null,
            "visibility": null,
            "width": null
          }
        },
        "d406ce9a428e4ec5bd1f841583fc67fe": {
          "model_module": "@jupyter-widgets/base",
          "model_module_version": "1.2.0",
          "model_name": "LayoutModel",
          "state": {
            "_model_module": "@jupyter-widgets/base",
            "_model_module_version": "1.2.0",
            "_model_name": "LayoutModel",
            "_view_count": null,
            "_view_module": "@jupyter-widgets/base",
            "_view_module_version": "1.2.0",
            "_view_name": "LayoutView",
            "align_content": null,
            "align_items": null,
            "align_self": null,
            "border": null,
            "bottom": null,
            "display": null,
            "flex": null,
            "flex_flow": null,
            "grid_area": null,
            "grid_auto_columns": null,
            "grid_auto_flow": null,
            "grid_auto_rows": null,
            "grid_column": null,
            "grid_gap": null,
            "grid_row": null,
            "grid_template_areas": null,
            "grid_template_columns": null,
            "grid_template_rows": null,
            "height": null,
            "justify_content": null,
            "justify_items": null,
            "left": null,
            "margin": null,
            "max_height": null,
            "max_width": null,
            "min_height": null,
            "min_width": null,
            "object_fit": null,
            "object_position": null,
            "order": null,
            "overflow": null,
            "overflow_x": null,
            "overflow_y": null,
            "padding": null,
            "right": null,
            "top": null,
            "visibility": null,
            "width": null
          }
        },
        "d617ca52ff5f47198a8d5625c0beaba4": {
          "model_module": "@jupyter-widgets/base",
          "model_module_version": "1.2.0",
          "model_name": "LayoutModel",
          "state": {
            "_model_module": "@jupyter-widgets/base",
            "_model_module_version": "1.2.0",
            "_model_name": "LayoutModel",
            "_view_count": null,
            "_view_module": "@jupyter-widgets/base",
            "_view_module_version": "1.2.0",
            "_view_name": "LayoutView",
            "align_content": null,
            "align_items": null,
            "align_self": null,
            "border": null,
            "bottom": null,
            "display": null,
            "flex": null,
            "flex_flow": null,
            "grid_area": null,
            "grid_auto_columns": null,
            "grid_auto_flow": null,
            "grid_auto_rows": null,
            "grid_column": null,
            "grid_gap": null,
            "grid_row": null,
            "grid_template_areas": null,
            "grid_template_columns": null,
            "grid_template_rows": null,
            "height": null,
            "justify_content": null,
            "justify_items": null,
            "left": null,
            "margin": null,
            "max_height": null,
            "max_width": null,
            "min_height": null,
            "min_width": null,
            "object_fit": null,
            "object_position": null,
            "order": null,
            "overflow": null,
            "overflow_x": null,
            "overflow_y": null,
            "padding": null,
            "right": null,
            "top": null,
            "visibility": null,
            "width": null
          }
        },
        "d719b1dc5e4c4f0aa7b3f1d5d10e6f13": {
          "model_module": "@jupyter-widgets/controls",
          "model_module_version": "1.5.0",
          "model_name": "HTMLModel",
          "state": {
            "_dom_classes": [],
            "_model_module": "@jupyter-widgets/controls",
            "_model_module_version": "1.5.0",
            "_model_name": "HTMLModel",
            "_view_count": null,
            "_view_module": "@jupyter-widgets/controls",
            "_view_module_version": "1.5.0",
            "_view_name": "HTMLView",
            "description": "",
            "description_tooltip": null,
            "layout": "IPY_MODEL_dbfaf4b04bc7411ba2acf0da70e031a7",
            "placeholder": "​",
            "style": "IPY_MODEL_10f87f48cfbb4228849cf30c31f7a203",
            "value": " 162/162 [00:15&lt;00:00, 14.17it/s]"
          }
        },
        "d74f8a0d818b4e04a081d93ae4281604": {
          "model_module": "@jupyter-widgets/controls",
          "model_module_version": "1.5.0",
          "model_name": "HTMLModel",
          "state": {
            "_dom_classes": [],
            "_model_module": "@jupyter-widgets/controls",
            "_model_module_version": "1.5.0",
            "_model_name": "HTMLModel",
            "_view_count": null,
            "_view_module": "@jupyter-widgets/controls",
            "_view_module_version": "1.5.0",
            "_view_name": "HTMLView",
            "description": "",
            "description_tooltip": null,
            "layout": "IPY_MODEL_a72532a7cbd34ae6859bd6b5d14525f9",
            "placeholder": "​",
            "style": "IPY_MODEL_01927538e9084f3d91c3c9d558fff80d",
            "value": " 3033690/3033690 [04:52&lt;00:00, 16889.34 examples/s]"
          }
        },
        "dbaf63fc33824e9cbe8f154dbeefc96d": {
          "model_module": "@jupyter-widgets/controls",
          "model_module_version": "1.5.0",
          "model_name": "HTMLModel",
          "state": {
            "_dom_classes": [],
            "_model_module": "@jupyter-widgets/controls",
            "_model_module_version": "1.5.0",
            "_model_name": "HTMLModel",
            "_view_count": null,
            "_view_module": "@jupyter-widgets/controls",
            "_view_module_version": "1.5.0",
            "_view_name": "HTMLView",
            "description": "",
            "description_tooltip": null,
            "layout": "IPY_MODEL_2d05bf99b5374b34b92e62494afee549",
            "placeholder": "​",
            "style": "IPY_MODEL_76eda070ba25445dbfbf7fabc94cbae5",
            "value": "Loading dataset shards: 100%"
          }
        },
        "dbfaf4b04bc7411ba2acf0da70e031a7": {
          "model_module": "@jupyter-widgets/base",
          "model_module_version": "1.2.0",
          "model_name": "LayoutModel",
          "state": {
            "_model_module": "@jupyter-widgets/base",
            "_model_module_version": "1.2.0",
            "_model_name": "LayoutModel",
            "_view_count": null,
            "_view_module": "@jupyter-widgets/base",
            "_view_module_version": "1.2.0",
            "_view_name": "LayoutView",
            "align_content": null,
            "align_items": null,
            "align_self": null,
            "border": null,
            "bottom": null,
            "display": null,
            "flex": null,
            "flex_flow": null,
            "grid_area": null,
            "grid_auto_columns": null,
            "grid_auto_flow": null,
            "grid_auto_rows": null,
            "grid_column": null,
            "grid_gap": null,
            "grid_row": null,
            "grid_template_areas": null,
            "grid_template_columns": null,
            "grid_template_rows": null,
            "height": null,
            "justify_content": null,
            "justify_items": null,
            "left": null,
            "margin": null,
            "max_height": null,
            "max_width": null,
            "min_height": null,
            "min_width": null,
            "object_fit": null,
            "object_position": null,
            "order": null,
            "overflow": null,
            "overflow_x": null,
            "overflow_y": null,
            "padding": null,
            "right": null,
            "top": null,
            "visibility": null,
            "width": null
          }
        },
        "e260db980a9848ec98bca7730632a2ca": {
          "model_module": "@jupyter-widgets/controls",
          "model_module_version": "1.5.0",
          "model_name": "FloatProgressModel",
          "state": {
            "_dom_classes": [],
            "_model_module": "@jupyter-widgets/controls",
            "_model_module_version": "1.5.0",
            "_model_name": "FloatProgressModel",
            "_view_count": null,
            "_view_module": "@jupyter-widgets/controls",
            "_view_module_version": "1.5.0",
            "_view_name": "ProgressView",
            "bar_style": "success",
            "description": "",
            "description_tooltip": null,
            "layout": "IPY_MODEL_ba9e3cecbf3841fcbeb4b97157db2454",
            "max": 3033690,
            "min": 0,
            "orientation": "horizontal",
            "style": "IPY_MODEL_92c9ab48501f47eaa21f993140605610",
            "value": 3033690
          }
        },
        "e7587338648d44f28fc6971a65420fe2": {
          "model_module": "@jupyter-widgets/controls",
          "model_module_version": "1.5.0",
          "model_name": "ProgressStyleModel",
          "state": {
            "_model_module": "@jupyter-widgets/controls",
            "_model_module_version": "1.5.0",
            "_model_name": "ProgressStyleModel",
            "_view_count": null,
            "_view_module": "@jupyter-widgets/base",
            "_view_module_version": "1.2.0",
            "_view_name": "StyleView",
            "bar_color": null,
            "description_width": ""
          }
        },
        "ecd430e3d36b469684a6e7b322ebe542": {
          "model_module": "@jupyter-widgets/base",
          "model_module_version": "1.2.0",
          "model_name": "LayoutModel",
          "state": {
            "_model_module": "@jupyter-widgets/base",
            "_model_module_version": "1.2.0",
            "_model_name": "LayoutModel",
            "_view_count": null,
            "_view_module": "@jupyter-widgets/base",
            "_view_module_version": "1.2.0",
            "_view_name": "LayoutView",
            "align_content": null,
            "align_items": null,
            "align_self": null,
            "border": null,
            "bottom": null,
            "display": null,
            "flex": null,
            "flex_flow": null,
            "grid_area": null,
            "grid_auto_columns": null,
            "grid_auto_flow": null,
            "grid_auto_rows": null,
            "grid_column": null,
            "grid_gap": null,
            "grid_row": null,
            "grid_template_areas": null,
            "grid_template_columns": null,
            "grid_template_rows": null,
            "height": null,
            "justify_content": null,
            "justify_items": null,
            "left": null,
            "margin": null,
            "max_height": null,
            "max_width": null,
            "min_height": null,
            "min_width": null,
            "object_fit": null,
            "object_position": null,
            "order": null,
            "overflow": null,
            "overflow_x": null,
            "overflow_y": null,
            "padding": null,
            "right": null,
            "top": null,
            "visibility": null,
            "width": null
          }
        },
        "ed5b1bed2d50419c9a4d978d9f335d10": {
          "model_module": "@jupyter-widgets/base",
          "model_module_version": "1.2.0",
          "model_name": "LayoutModel",
          "state": {
            "_model_module": "@jupyter-widgets/base",
            "_model_module_version": "1.2.0",
            "_model_name": "LayoutModel",
            "_view_count": null,
            "_view_module": "@jupyter-widgets/base",
            "_view_module_version": "1.2.0",
            "_view_name": "LayoutView",
            "align_content": null,
            "align_items": null,
            "align_self": null,
            "border": null,
            "bottom": null,
            "display": null,
            "flex": null,
            "flex_flow": null,
            "grid_area": null,
            "grid_auto_columns": null,
            "grid_auto_flow": null,
            "grid_auto_rows": null,
            "grid_column": null,
            "grid_gap": null,
            "grid_row": null,
            "grid_template_areas": null,
            "grid_template_columns": null,
            "grid_template_rows": null,
            "height": null,
            "justify_content": null,
            "justify_items": null,
            "left": null,
            "margin": null,
            "max_height": null,
            "max_width": null,
            "min_height": null,
            "min_width": null,
            "object_fit": null,
            "object_position": null,
            "order": null,
            "overflow": null,
            "overflow_x": null,
            "overflow_y": null,
            "padding": null,
            "right": null,
            "top": null,
            "visibility": null,
            "width": null
          }
        },
        "edd40067c39a41da9b6584e0897bc76a": {
          "model_module": "@jupyter-widgets/base",
          "model_module_version": "1.2.0",
          "model_name": "LayoutModel",
          "state": {
            "_model_module": "@jupyter-widgets/base",
            "_model_module_version": "1.2.0",
            "_model_name": "LayoutModel",
            "_view_count": null,
            "_view_module": "@jupyter-widgets/base",
            "_view_module_version": "1.2.0",
            "_view_name": "LayoutView",
            "align_content": null,
            "align_items": null,
            "align_self": null,
            "border": null,
            "bottom": null,
            "display": null,
            "flex": null,
            "flex_flow": null,
            "grid_area": null,
            "grid_auto_columns": null,
            "grid_auto_flow": null,
            "grid_auto_rows": null,
            "grid_column": null,
            "grid_gap": null,
            "grid_row": null,
            "grid_template_areas": null,
            "grid_template_columns": null,
            "grid_template_rows": null,
            "height": null,
            "justify_content": null,
            "justify_items": null,
            "left": null,
            "margin": null,
            "max_height": null,
            "max_width": null,
            "min_height": null,
            "min_width": null,
            "object_fit": null,
            "object_position": null,
            "order": null,
            "overflow": null,
            "overflow_x": null,
            "overflow_y": null,
            "padding": null,
            "right": null,
            "top": null,
            "visibility": null,
            "width": null
          }
        },
        "ef0e74437a334cb7ac1f0743c1188957": {
          "model_module": "@jupyter-widgets/base",
          "model_module_version": "1.2.0",
          "model_name": "LayoutModel",
          "state": {
            "_model_module": "@jupyter-widgets/base",
            "_model_module_version": "1.2.0",
            "_model_name": "LayoutModel",
            "_view_count": null,
            "_view_module": "@jupyter-widgets/base",
            "_view_module_version": "1.2.0",
            "_view_name": "LayoutView",
            "align_content": null,
            "align_items": null,
            "align_self": null,
            "border": null,
            "bottom": null,
            "display": null,
            "flex": null,
            "flex_flow": null,
            "grid_area": null,
            "grid_auto_columns": null,
            "grid_auto_flow": null,
            "grid_auto_rows": null,
            "grid_column": null,
            "grid_gap": null,
            "grid_row": null,
            "grid_template_areas": null,
            "grid_template_columns": null,
            "grid_template_rows": null,
            "height": null,
            "justify_content": null,
            "justify_items": null,
            "left": null,
            "margin": null,
            "max_height": null,
            "max_width": null,
            "min_height": null,
            "min_width": null,
            "object_fit": null,
            "object_position": null,
            "order": null,
            "overflow": null,
            "overflow_x": null,
            "overflow_y": null,
            "padding": null,
            "right": null,
            "top": null,
            "visibility": null,
            "width": null
          }
        },
        "f2d429a8629b4c49a734ae9b9b040d2e": {
          "model_module": "@jupyter-widgets/base",
          "model_module_version": "1.2.0",
          "model_name": "LayoutModel",
          "state": {
            "_model_module": "@jupyter-widgets/base",
            "_model_module_version": "1.2.0",
            "_model_name": "LayoutModel",
            "_view_count": null,
            "_view_module": "@jupyter-widgets/base",
            "_view_module_version": "1.2.0",
            "_view_name": "LayoutView",
            "align_content": null,
            "align_items": null,
            "align_self": null,
            "border": null,
            "bottom": null,
            "display": null,
            "flex": null,
            "flex_flow": null,
            "grid_area": null,
            "grid_auto_columns": null,
            "grid_auto_flow": null,
            "grid_auto_rows": null,
            "grid_column": null,
            "grid_gap": null,
            "grid_row": null,
            "grid_template_areas": null,
            "grid_template_columns": null,
            "grid_template_rows": null,
            "height": null,
            "justify_content": null,
            "justify_items": null,
            "left": null,
            "margin": null,
            "max_height": null,
            "max_width": null,
            "min_height": null,
            "min_width": null,
            "object_fit": null,
            "object_position": null,
            "order": null,
            "overflow": null,
            "overflow_x": null,
            "overflow_y": null,
            "padding": null,
            "right": null,
            "top": null,
            "visibility": null,
            "width": null
          }
        },
        "f59546924162407d8a1130c6546aee2a": {
          "model_module": "@jupyter-widgets/base",
          "model_module_version": "1.2.0",
          "model_name": "LayoutModel",
          "state": {
            "_model_module": "@jupyter-widgets/base",
            "_model_module_version": "1.2.0",
            "_model_name": "LayoutModel",
            "_view_count": null,
            "_view_module": "@jupyter-widgets/base",
            "_view_module_version": "1.2.0",
            "_view_name": "LayoutView",
            "align_content": null,
            "align_items": null,
            "align_self": null,
            "border": null,
            "bottom": null,
            "display": null,
            "flex": null,
            "flex_flow": null,
            "grid_area": null,
            "grid_auto_columns": null,
            "grid_auto_flow": null,
            "grid_auto_rows": null,
            "grid_column": null,
            "grid_gap": null,
            "grid_row": null,
            "grid_template_areas": null,
            "grid_template_columns": null,
            "grid_template_rows": null,
            "height": null,
            "justify_content": null,
            "justify_items": null,
            "left": null,
            "margin": null,
            "max_height": null,
            "max_width": null,
            "min_height": null,
            "min_width": null,
            "object_fit": null,
            "object_position": null,
            "order": null,
            "overflow": null,
            "overflow_x": null,
            "overflow_y": null,
            "padding": null,
            "right": null,
            "top": null,
            "visibility": null,
            "width": null
          }
        },
        "f7d338181bb043caad93ad5e5702927f": {
          "model_module": "@jupyter-widgets/controls",
          "model_module_version": "1.5.0",
          "model_name": "HTMLModel",
          "state": {
            "_dom_classes": [],
            "_model_module": "@jupyter-widgets/controls",
            "_model_module_version": "1.5.0",
            "_model_name": "HTMLModel",
            "_view_count": null,
            "_view_module": "@jupyter-widgets/controls",
            "_view_module_version": "1.5.0",
            "_view_name": "HTMLView",
            "description": "",
            "description_tooltip": null,
            "layout": "IPY_MODEL_425741b70c604890823952ed45ae43eb",
            "placeholder": "​",
            "style": "IPY_MODEL_2cbe3515c62b483488f88eafa504f428",
            "value": "Generating train split: 100%"
          }
        },
        "ff5e0cc26a3f41fabb4e163efcb577d3": {
          "model_module": "@jupyter-widgets/base",
          "model_module_version": "1.2.0",
          "model_name": "LayoutModel",
          "state": {
            "_model_module": "@jupyter-widgets/base",
            "_model_module_version": "1.2.0",
            "_model_name": "LayoutModel",
            "_view_count": null,
            "_view_module": "@jupyter-widgets/base",
            "_view_module_version": "1.2.0",
            "_view_name": "LayoutView",
            "align_content": null,
            "align_items": "center",
            "align_self": null,
            "border": null,
            "bottom": null,
            "display": "flex",
            "flex": null,
            "flex_flow": "column",
            "grid_area": null,
            "grid_auto_columns": null,
            "grid_auto_flow": null,
            "grid_auto_rows": null,
            "grid_column": null,
            "grid_gap": null,
            "grid_row": null,
            "grid_template_areas": null,
            "grid_template_columns": null,
            "grid_template_rows": null,
            "height": null,
            "justify_content": null,
            "justify_items": null,
            "left": null,
            "margin": null,
            "max_height": null,
            "max_width": null,
            "min_height": null,
            "min_width": null,
            "object_fit": null,
            "object_position": null,
            "order": null,
            "overflow": null,
            "overflow_x": null,
            "overflow_y": null,
            "padding": null,
            "right": null,
            "top": null,
            "visibility": null,
            "width": "50%"
          }
        }
      }
    }
  },
  "nbformat": 4,
  "nbformat_minor": 0
}
